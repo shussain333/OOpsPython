{
 "cells": [
  {
   "metadata": {},
   "cell_type": "markdown",
   "source": [
    "# Operator Overloading\n",
    "\n",
    "_One operator use to operform operation on different types of data, is called `Operator overloading`_.\n",
    "\n",
    "Example -\n",
    "```\n",
    "10 + 20 = 30\n",
    "\"hello\" + \"world\" = helloworld\n",
    "[1,2,3] + [4,5,6] = [1,2,3,4,5,6]\n",
    "```\n",
    "\n",
    "In above example, + operator is used to perform operation on different type of data. _int_, _str_, _list_\n",
    "\n",
    "Similar to the above, we can extend the functionality of operator, and can perform the operation on user defined data types as well.\n",
    "\n",
    "Bonus - But if we want to change the behaviour of + operator then we will have to override the behaviour. It is  called operator overriding.\n",
    "\n",
    "### In operator overloading, both the datatype should same. Otherwise python will throw `TypeError`"
   ],
   "id": "f19db6cc10ae7fa"
  },
  {
   "cell_type": "code",
   "id": "initial_id",
   "metadata": {
    "collapsed": true,
    "ExecuteTime": {
     "end_time": "2025-10-08T18:00:45.967265Z",
     "start_time": "2025-10-08T18:00:45.965277Z"
    }
   },
   "source": [
    "from pygments.token import Other\n",
    "\n",
    "num1 = 10\n",
    "num2 = 20\n",
    "\n",
    "print(num1 + num2)              # 30\n",
    "print(type(num1))\n",
    "print(num1.__add__(num2))       # 30    # it is equal to num1 + num2\n",
    "print(int.__add__(num1, num2))  # 30    # it is equal to num1 + num2"
   ],
   "outputs": [
    {
     "name": "stdout",
     "output_type": "stream",
     "text": [
      "30\n",
      "<class 'int'>\n",
      "30\n",
      "30\n"
     ]
    }
   ],
   "execution_count": 71
  },
  {
   "metadata": {},
   "cell_type": "markdown",
   "source": [
    "### What happen when `num1 + num2` is called?\n",
    "\n",
    "##### 1. Python check the datatype of first/left operand. In this case `num1` datatype is `<class 'int'>`\n",
    "##### 2. Python will go inside `<class 'int'>` class. (Remember everything in python is class type)\n",
    "##### 3. Python will call __add__() method which is defined inside `<class 'int'>` class.\n",
    "\n",
    "Which means when when we write `num1 + num2`, so it is resolved as `num1.__add__(num2)`.\n",
    "\n",
    "### In operator overloading, both(`num1 + num2`) the datatype should be same type. Otherwise, Python will throw `TypeError`"
   ],
   "id": "db66a09f2f1d9840"
  },
  {
   "metadata": {},
   "cell_type": "markdown",
   "source": "### Let's check all the functions of `int`",
   "id": "2a369afbd885e30d"
  },
  {
   "metadata": {
    "ExecuteTime": {
     "end_time": "2025-10-08T18:00:45.984468Z",
     "start_time": "2025-10-08T18:00:45.981431Z"
    }
   },
   "cell_type": "code",
   "source": "print(dir(int))",
   "id": "341a10c9b2a6898a",
   "outputs": [
    {
     "name": "stdout",
     "output_type": "stream",
     "text": [
      "['__abs__', '__add__', '__and__', '__bool__', '__ceil__', '__class__', '__delattr__', '__dir__', '__divmod__', '__doc__', '__eq__', '__float__', '__floor__', '__floordiv__', '__format__', '__ge__', '__getattribute__', '__getnewargs__', '__getstate__', '__gt__', '__hash__', '__index__', '__init__', '__init_subclass__', '__int__', '__invert__', '__le__', '__lshift__', '__lt__', '__mod__', '__mul__', '__ne__', '__neg__', '__new__', '__or__', '__pos__', '__pow__', '__radd__', '__rand__', '__rdivmod__', '__reduce__', '__reduce_ex__', '__repr__', '__rfloordiv__', '__rlshift__', '__rmod__', '__rmul__', '__ror__', '__round__', '__rpow__', '__rrshift__', '__rshift__', '__rsub__', '__rtruediv__', '__rxor__', '__setattr__', '__sizeof__', '__str__', '__sub__', '__subclasshook__', '__truediv__', '__trunc__', '__xor__', 'as_integer_ratio', 'bit_count', 'bit_length', 'conjugate', 'denominator', 'from_bytes', 'imag', 'is_integer', 'numerator', 'real', 'to_bytes']\n"
     ]
    }
   ],
   "execution_count": 72
  },
  {
   "metadata": {
    "ExecuteTime": {
     "end_time": "2025-10-08T18:00:46.002075Z",
     "start_time": "2025-10-08T18:00:46.000082Z"
    }
   },
   "cell_type": "code",
   "source": [
    "num1 = \"Hello\"\n",
    "num2 = \"World\"\n",
    "print(num1 + num2)      # helloworld    # it will call the str class __add__() function\n",
    "print(type(num1))\n",
    "print(num1.__add__(num2))\n",
    "print(str.__add__(num1, num2))"
   ],
   "id": "6fb91f354d6cfb87",
   "outputs": [
    {
     "name": "stdout",
     "output_type": "stream",
     "text": [
      "HelloWorld\n",
      "<class 'str'>\n",
      "HelloWorld\n",
      "HelloWorld\n"
     ]
    }
   ],
   "execution_count": 73
  },
  {
   "metadata": {
    "ExecuteTime": {
     "end_time": "2025-10-08T18:00:46.009111Z",
     "start_time": "2025-10-08T18:00:46.007488Z"
    }
   },
   "cell_type": "code",
   "source": "print(dir(str))",
   "id": "f61874d55b2ae4d3",
   "outputs": [
    {
     "name": "stdout",
     "output_type": "stream",
     "text": [
      "['__add__', '__class__', '__contains__', '__delattr__', '__dir__', '__doc__', '__eq__', '__format__', '__ge__', '__getattribute__', '__getitem__', '__getnewargs__', '__getstate__', '__gt__', '__hash__', '__init__', '__init_subclass__', '__iter__', '__le__', '__len__', '__lt__', '__mod__', '__mul__', '__ne__', '__new__', '__reduce__', '__reduce_ex__', '__repr__', '__rmod__', '__rmul__', '__setattr__', '__sizeof__', '__str__', '__subclasshook__', 'capitalize', 'casefold', 'center', 'count', 'encode', 'endswith', 'expandtabs', 'find', 'format', 'format_map', 'index', 'isalnum', 'isalpha', 'isascii', 'isdecimal', 'isdigit', 'isidentifier', 'islower', 'isnumeric', 'isprintable', 'isspace', 'istitle', 'isupper', 'join', 'ljust', 'lower', 'lstrip', 'maketrans', 'partition', 'removeprefix', 'removesuffix', 'replace', 'rfind', 'rindex', 'rjust', 'rpartition', 'rsplit', 'rstrip', 'split', 'splitlines', 'startswith', 'strip', 'swapcase', 'title', 'translate', 'upper', 'zfill']\n"
     ]
    }
   ],
   "execution_count": 74
  },
  {
   "metadata": {},
   "cell_type": "markdown",
   "source": "## Let's override for user defined `datatype`",
   "id": "c7256539b7d575ce"
  },
  {
   "metadata": {
    "ExecuteTime": {
     "end_time": "2025-10-08T18:00:54.703768Z",
     "start_time": "2025-10-08T18:00:54.684487Z"
    }
   },
   "cell_type": "code",
   "source": [
    "class Book:\n",
    "    def __init__(self, title, author, pages):\n",
    "        self.title = title\n",
    "        self.author = author\n",
    "        self.pages = pages\n",
    "\n",
    "\n",
    "b1 = Book(\"One Book\", \"Abc\", 10)\n",
    "b2 = Book(\"Making India awesome\", \"Xyz\", 20)\n",
    "\n",
    "print(\"Total number of pages\", b1.pages+b2.pages)       # 50\n",
    "print(b1+b2)                    # TypeError: unsupported operand type(s) for +: 'Book' and 'Book'"
   ],
   "id": "e8b282e049d0649e",
   "outputs": [
    {
     "name": "stdout",
     "output_type": "stream",
     "text": [
      "Total number of pages 30\n"
     ]
    },
    {
     "ename": "TypeError",
     "evalue": "unsupported operand type(s) for +: 'Book' and 'Book'",
     "output_type": "error",
     "traceback": [
      "\u001B[31m---------------------------------------------------------------------------\u001B[39m",
      "\u001B[31mTypeError\u001B[39m                                 Traceback (most recent call last)",
      "\u001B[36mCell\u001B[39m\u001B[36m \u001B[39m\u001B[32mIn[77]\u001B[39m\u001B[32m, line 12\u001B[39m\n\u001B[32m      9\u001B[39m b2 = Book(\u001B[33m\"\u001B[39m\u001B[33mMaking India awesome\u001B[39m\u001B[33m\"\u001B[39m, \u001B[33m\"\u001B[39m\u001B[33mXyz\u001B[39m\u001B[33m\"\u001B[39m, \u001B[32m20\u001B[39m)\n\u001B[32m     11\u001B[39m \u001B[38;5;28mprint\u001B[39m(\u001B[33m\"\u001B[39m\u001B[33mTotal number of pages\u001B[39m\u001B[33m\"\u001B[39m, b1.pages+b2.pages)       \u001B[38;5;66;03m# 50\u001B[39;00m\n\u001B[32m---> \u001B[39m\u001B[32m12\u001B[39m \u001B[38;5;28mprint\u001B[39m(\u001B[43mb1\u001B[49m\u001B[43m+\u001B[49m\u001B[43mb2\u001B[49m)                    \u001B[38;5;66;03m# TypeError: unsupported operand type(s) for +: 'Book' and 'Book'\u001B[39;00m\n",
      "\u001B[31mTypeError\u001B[39m: unsupported operand type(s) for +: 'Book' and 'Book'"
     ]
    }
   ],
   "execution_count": 77
  },
  {
   "metadata": {},
   "cell_type": "markdown",
   "source": "Since there is no operator defined inside `Book` class, it it throwing above error. So let's fix it now.",
   "id": "656fc2679d2c6027"
  },
  {
   "metadata": {
    "ExecuteTime": {
     "end_time": "2025-10-08T18:00:47.609739Z",
     "start_time": "2025-10-08T18:00:47.588918Z"
    }
   },
   "cell_type": "code",
   "source": [
    "class Order:\n",
    "    def __init__(self, name, price):\n",
    "        self.name = name\n",
    "        self.price = price\n",
    "\n",
    "    def __add__(self, other):   # (o1, o2)\n",
    "        return self.price + other\n",
    "\n",
    "o1 = Order(\"Jeans\", 500)\n",
    "o2 = Order(\"TShirt\", 1500)\n",
    "print(o1 + o2)              # This time it should work, not fail like `b1+b3`\n",
    "\n",
    "\n",
    "o3 = Order(\"T1Shirt\", 2500)\n",
    "print(o1 + o2 + o3)         # This will fail now.\n"
   ],
   "id": "e6d0d291ceb964eb",
   "outputs": [
    {
     "ename": "TypeError",
     "evalue": "unsupported operand type(s) for +: 'int' and 'Order'",
     "output_type": "error",
     "traceback": [
      "\u001B[31m---------------------------------------------------------------------------\u001B[39m",
      "\u001B[31mTypeError\u001B[39m                                 Traceback (most recent call last)",
      "\u001B[36mCell\u001B[39m\u001B[36m \u001B[39m\u001B[32mIn[76]\u001B[39m\u001B[32m, line 11\u001B[39m\n\u001B[32m      9\u001B[39m o1 = Order(\u001B[33m\"\u001B[39m\u001B[33mJeans\u001B[39m\u001B[33m\"\u001B[39m, \u001B[32m500\u001B[39m)\n\u001B[32m     10\u001B[39m o2 = Order(\u001B[33m\"\u001B[39m\u001B[33mTShirt\u001B[39m\u001B[33m\"\u001B[39m, \u001B[32m1500\u001B[39m)\n\u001B[32m---> \u001B[39m\u001B[32m11\u001B[39m \u001B[38;5;28mprint\u001B[39m(\u001B[43mo1\u001B[49m\u001B[43m \u001B[49m\u001B[43m+\u001B[49m\u001B[43m \u001B[49m\u001B[43mo2\u001B[49m)              \u001B[38;5;66;03m# This time it should work, not fail like `b1+b3`\u001B[39;00m\n\u001B[32m     14\u001B[39m o3 = Order(\u001B[33m\"\u001B[39m\u001B[33mT1Shirt\u001B[39m\u001B[33m\"\u001B[39m, \u001B[32m2500\u001B[39m)\n\u001B[32m     15\u001B[39m \u001B[38;5;28mprint\u001B[39m(o1 + o2 + o3)         \u001B[38;5;66;03m# This will fail now.\u001B[39;00m\n",
      "\u001B[36mCell\u001B[39m\u001B[36m \u001B[39m\u001B[32mIn[76]\u001B[39m\u001B[32m, line 7\u001B[39m, in \u001B[36mOrder.__add__\u001B[39m\u001B[34m(self, other)\u001B[39m\n\u001B[32m      6\u001B[39m \u001B[38;5;28;01mdef\u001B[39;00m\u001B[38;5;250m \u001B[39m\u001B[34m__add__\u001B[39m(\u001B[38;5;28mself\u001B[39m, other):   \u001B[38;5;66;03m# (o1, o2)\u001B[39;00m\n\u001B[32m----> \u001B[39m\u001B[32m7\u001B[39m     \u001B[38;5;28;01mreturn\u001B[39;00m \u001B[38;5;28;43mself\u001B[39;49m\u001B[43m.\u001B[49m\u001B[43mprice\u001B[49m\u001B[43m \u001B[49m\u001B[43m+\u001B[49m\u001B[43m \u001B[49m\u001B[43mother\u001B[49m\n",
      "\u001B[31mTypeError\u001B[39m: unsupported operand type(s) for +: 'int' and 'Order'"
     ]
    }
   ],
   "execution_count": 76
  }
 ],
 "metadata": {
  "kernelspec": {
   "display_name": "Python 3",
   "language": "python",
   "name": "python3"
  },
  "language_info": {
   "codemirror_mode": {
    "name": "ipython",
    "version": 2
   },
   "file_extension": ".py",
   "mimetype": "text/x-python",
   "name": "python",
   "nbconvert_exporter": "python",
   "pygments_lexer": "ipython2",
   "version": "2.7.6"
  }
 },
 "nbformat": 4,
 "nbformat_minor": 5
}
