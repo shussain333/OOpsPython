{
 "cells": [
  {
   "metadata": {},
   "cell_type": "markdown",
   "source": [
    "## Builtin types\n",
    "Everything in python is an object. Let's see how -"
   ],
   "id": "3a9c4678e7698d0e"
  },
  {
   "cell_type": "code",
   "id": "initial_id",
   "metadata": {
    "collapsed": true,
    "ExecuteTime": {
     "end_time": "2025-10-02T13:40:59.187626Z",
     "start_time": "2025-10-02T13:40:59.184961Z"
    }
   },
   "source": [
    "x = 20\n",
    "\n",
    "print(x)\n",
    "print(type(x))"
   ],
   "outputs": [
    {
     "name": "stdout",
     "output_type": "stream",
     "text": [
      "20\n",
      "<class 'int'>\n"
     ]
    }
   ],
   "execution_count": 1
  },
  {
   "metadata": {},
   "cell_type": "markdown",
   "source": [
    "Above says that `<class 'int'>`, which means int is a type of `class`, remember class attributes cannot be accessed without object creation. If we are able to access it directly, means class reference `x`, itself is treated as attribute.\n",
    "\n",
    "### Now let's understand it little deep, when execution happened -\n",
    "\n",
    "1. An object was created with the name of `x` when `x = 20` was executed.\n",
    "2. A memory was allocated to the reference name `x` and value stored as `20` in that heap memory location\n",
    "3. When `print(x)` executed, it has pull the value of `x` from heap memory."
   ],
   "id": "7091b75c33dd4775"
  },
  {
   "metadata": {},
   "cell_type": "markdown",
   "source": "## Few more example of different data types",
   "id": "a82f0cb416e39232"
  },
  {
   "metadata": {
    "ExecuteTime": {
     "end_time": "2025-10-02T13:47:08.399347Z",
     "start_time": "2025-10-02T13:47:08.393852Z"
    }
   },
   "cell_type": "code",
   "source": [
    "x = 2.2\n",
    "\n",
    "print(x)\n",
    "print(type(x))"
   ],
   "id": "6c563e5dc114f9ed",
   "outputs": [
    {
     "name": "stdout",
     "output_type": "stream",
     "text": [
      "2.2\n",
      "<class 'float'>\n"
     ]
    }
   ],
   "execution_count": 2
  },
  {
   "metadata": {
    "ExecuteTime": {
     "end_time": "2025-10-02T13:47:21.503838Z",
     "start_time": "2025-10-02T13:47:21.501894Z"
    }
   },
   "cell_type": "code",
   "source": [
    "x = \"Sartaj\"\n",
    "\n",
    "print(x)\n",
    "print(type(x))"
   ],
   "id": "fbcaaec525455731",
   "outputs": [
    {
     "name": "stdout",
     "output_type": "stream",
     "text": [
      "Sartaj\n",
      "<class 'str'>\n"
     ]
    }
   ],
   "execution_count": 3
  },
  {
   "metadata": {
    "ExecuteTime": {
     "end_time": "2025-10-02T13:48:26.107447Z",
     "start_time": "2025-10-02T13:48:26.104594Z"
    }
   },
   "cell_type": "code",
   "source": [
    "x = 4/2\n",
    "\n",
    "print(x)\n",
    "print(type(x))"
   ],
   "id": "de71dade324f134",
   "outputs": [
    {
     "name": "stdout",
     "output_type": "stream",
     "text": [
      "2.0\n",
      "<class 'float'>\n"
     ]
    }
   ],
   "execution_count": 11
  },
  {
   "metadata": {
    "ExecuteTime": {
     "end_time": "2025-10-02T13:48:42.737262Z",
     "start_time": "2025-10-02T13:48:42.734503Z"
    }
   },
   "cell_type": "code",
   "source": [
    "x = 4*2\n",
    "print(x)\n",
    "print(type(x))"
   ],
   "id": "f4ec9e51c75c13fc",
   "outputs": [
    {
     "name": "stdout",
     "output_type": "stream",
     "text": [
      "8\n",
      "<class 'int'>\n"
     ]
    }
   ],
   "execution_count": 12
  },
  {
   "metadata": {
    "ExecuteTime": {
     "end_time": "2025-10-02T13:49:00.812944Z",
     "start_time": "2025-10-02T13:49:00.809516Z"
    }
   },
   "cell_type": "code",
   "source": [
    "x = 4+2\n",
    "print(x)\n",
    "print(type(x))"
   ],
   "id": "9890abd1137c6ae4",
   "outputs": [
    {
     "name": "stdout",
     "output_type": "stream",
     "text": [
      "6\n",
      "<class 'int'>\n"
     ]
    }
   ],
   "execution_count": 13
  },
  {
   "metadata": {
    "ExecuteTime": {
     "end_time": "2025-10-02T13:49:54.501572Z",
     "start_time": "2025-10-02T13:49:54.498618Z"
    }
   },
   "cell_type": "code",
   "source": [
    "class UserDefinedType:\n",
    "    pass\n",
    "\n",
    "u1 = UserDefinedType()\n",
    "print(u1)\n",
    "print(type(u1))"
   ],
   "id": "984287f1f8b5b0d8",
   "outputs": [
    {
     "name": "stdout",
     "output_type": "stream",
     "text": [
      "<__main__.UserDefinedType object at 0x10ac8da30>\n",
      "<class '__main__.UserDefinedType'>\n"
     ]
    }
   ],
   "execution_count": 14
  }
 ],
 "metadata": {
  "kernelspec": {
   "display_name": "Python 3",
   "language": "python",
   "name": "python3"
  },
  "language_info": {
   "codemirror_mode": {
    "name": "ipython",
    "version": 2
   },
   "file_extension": ".py",
   "mimetype": "text/x-python",
   "name": "python",
   "nbconvert_exporter": "python",
   "pygments_lexer": "ipython2",
   "version": "2.7.6"
  }
 },
 "nbformat": 4,
 "nbformat_minor": 5
}
