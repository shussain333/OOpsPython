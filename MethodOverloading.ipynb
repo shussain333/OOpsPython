{
 "cells": [
  {
   "metadata": {},
   "cell_type": "markdown",
   "source": [
    "## Method overloading\n",
    "\n",
    "Method overloading means, same method name but different number of parameters.\n",
    "\n",
    "**_Python does not support method overloading_**. But this can be achievable (Not recommended) -\n",
    "\n",
    "Let's see how -"
   ],
   "id": "dbc8b0370eda799d"
  },
  {
   "cell_type": "code",
   "id": "initial_id",
   "metadata": {
    "collapsed": true,
    "ExecuteTime": {
     "end_time": "2025-10-09T18:23:46.838704Z",
     "start_time": "2025-10-09T18:23:46.831723Z"
    }
   },
   "source": [
    "from typing import List\n",
    "\n",
    "class Calculator:\n",
    "    def __init__(self):\n",
    "        pass\n",
    "\n",
    "    def add(self, first: int, second: int) -> int:\n",
    "        print(f\"add-01 {first}, {second} of type {type(first)}\")\n",
    "        return first + second\n",
    "\n",
    "    def add(self, first: int, second: int, third: int) -> int:\n",
    "        print(f\"add-02 {first}, {second}, {third} of type {type(first)}\")\n",
    "        return first + second + third\n",
    "\n",
    "    def add(self, first: str, second: str, third: str) -> str:\n",
    "        print(f\"add-03 {first}, {second}, {third} of type {type(first)}\")\n",
    "        return first + second + third\n",
    "\n",
    "    def add(self, first: List[int], second: List[int], third: List[int]) -> List[int]:\n",
    "        print(f\"add-04 {first}, {second}, {third} of type {type(first)}\")       # This will always be executing for any type of input. Just input should be passed for all 3 signature.\n",
    "        return first + second + third\n",
    "\n",
    "c1 = Calculator()\n",
    "print(c1.add(1, 2, 3))\n",
    "print(c1.add([1], [2], [3]))\n",
    "print(\"=====================================\")\n",
    "print(\"*****All the available methods of a class ref \\\"c1\\\"*****\\n\", c1.__dir__())\n",
    "print(\"=====================================\\n\\n\\n\")\n",
    "\n",
    "print(\"================Print list of available user defined method of a class=====================\")\n",
    "import inspect\n",
    "\n",
    "for name, func in inspect.getmembers(Calculator, inspect.isfunction):\n",
    "    signature = inspect.signature(func)\n",
    "    print(name, signature.parameters)\n",
    "\n",
    "# print(c1.add(11, 22))"
   ],
   "outputs": [
    {
     "name": "stdout",
     "output_type": "stream",
     "text": [
      "add-04 1, 2, 3 of type <class 'int'>\n",
      "6\n",
      "add-04 [1], [2], [3] of type <class 'list'>\n",
      "[1, 2, 3]\n",
      "=====================================\n",
      "*****All the available methods of a class ref \"c1\"*****\n",
      " ['__module__', '__init__', 'add', '__dict__', '__weakref__', '__doc__', '__new__', '__repr__', '__hash__', '__str__', '__getattribute__', '__setattr__', '__delattr__', '__lt__', '__le__', '__eq__', '__ne__', '__gt__', '__ge__', '__reduce_ex__', '__reduce__', '__getstate__', '__subclasshook__', '__init_subclass__', '__format__', '__sizeof__', '__dir__', '__class__']\n",
      "=====================================\n",
      "\n",
      "\n",
      "\n",
      "================Print list of available user defined method of a class=====================\n",
      "__init__ OrderedDict({'self': <Parameter \"self\">})\n",
      "add OrderedDict({'self': <Parameter \"self\">, 'first': <Parameter \"first: List[int]\">, 'second': <Parameter \"second: List[int]\">, 'third': <Parameter \"third: List[int]\">})\n"
     ]
    }
   ],
   "execution_count": 76
  },
  {
   "metadata": {},
   "cell_type": "markdown",
   "source": [
    "Checking above output will tell you, `Python` will only consider the last method, if method name is same.\n",
    "In the above class there were different method with the same name -\n",
    "1. Multiple different types of input\n",
    "2. Number of input parameters (count of parameters are 3 and 2).\n",
    "\n",
    "But in both the cases, `Python` only consider last `add` method with 3 parameters which is having signature as `def add(self, first: List[int], second: List[int], third: List[int]) -> List[int]:`. Which means no matter, how many methods we defined with the same name, it will consider only last method. Hence, method overloading in not possible.\n",
    "\n",
    "`Sample Output -`\n",
    "```\n",
    "1. __init__ OrderedDict({'self': <Parameter \"self\">})\n",
    "\n",
    "2. add OrderedDict({'self': <Parameter \"self\">, 'first': <Parameter \"first: List[int]\">, 'second': <Parameter \"second: List[int]\">, 'third': <Parameter \"third: List[int]\">})\n",
    "```"
   ],
   "id": "ed0539f956125988"
  },
  {
   "metadata": {
    "ExecuteTime": {
     "end_time": "2025-10-09T18:23:46.859775Z",
     "start_time": "2025-10-09T18:23:46.847027Z"
    }
   },
   "cell_type": "code",
   "source": "c1.add(1,2) # This will fail, because Python does not know any method with 2 parameters.",
   "id": "936dd80a401941f0",
   "outputs": [
    {
     "ename": "TypeError",
     "evalue": "Calculator.add() missing 1 required positional argument: 'third'",
     "output_type": "error",
     "traceback": [
      "\u001B[31m---------------------------------------------------------------------------\u001B[39m",
      "\u001B[31mTypeError\u001B[39m                                 Traceback (most recent call last)",
      "\u001B[36mCell\u001B[39m\u001B[36m \u001B[39m\u001B[32mIn[77]\u001B[39m\u001B[32m, line 1\u001B[39m\n\u001B[32m----> \u001B[39m\u001B[32m1\u001B[39m \u001B[43mc1\u001B[49m\u001B[43m.\u001B[49m\u001B[43madd\u001B[49m\u001B[43m(\u001B[49m\u001B[32;43m1\u001B[39;49m\u001B[43m,\u001B[49m\u001B[32;43m2\u001B[39;49m\u001B[43m)\u001B[49m \u001B[38;5;66;03m# This will fail, because Python does not know any method with 2 parameters.\u001B[39;00m\n",
      "\u001B[31mTypeError\u001B[39m: Calculator.add() missing 1 required positional argument: 'third'"
     ]
    }
   ],
   "execution_count": 77
  },
  {
   "metadata": {},
   "cell_type": "markdown",
   "source": "## Let's see, how this can be achievable (Not recommended) -",
   "id": "108980c7e94fbeff"
  },
  {
   "metadata": {
    "ExecuteTime": {
     "end_time": "2025-10-09T18:36:10.486892Z",
     "start_time": "2025-10-09T18:36:10.459472Z"
    }
   },
   "cell_type": "code",
   "source": [
    "class Calc:\n",
    "    def __init__(self):\n",
    "        pass\n",
    "\n",
    "    def add(self, first: int = None, second: int = None, third: int = None) -> int:\n",
    "        print(f\"add-01 from calc {first}, {second}, {third} of type {type(first)}\")\n",
    "\n",
    "        if first is not None and second is not None and third is not None:\n",
    "            return first + second + third\n",
    "        elif first is not None and second is not None:\n",
    "            return first + second\n",
    "        elif first is not None and third is not None:\n",
    "            return first + third\n",
    "        elif second is not None and third is not None:\n",
    "            return second + third\n",
    "\n",
    "        raise ValueError(\"At least two arguments are required\")\n",
    "\n",
    "calc = Calc()\n",
    "print(calc.add(1))"
   ],
   "id": "7d0766d9518fa708",
   "outputs": [
    {
     "name": "stdout",
     "output_type": "stream",
     "text": [
      "add-01 from calc 1, None, None of type <class 'int'>\n"
     ]
    },
    {
     "ename": "ValueError",
     "evalue": "At least two arguments are required",
     "output_type": "error",
     "traceback": [
      "\u001B[31m---------------------------------------------------------------------------\u001B[39m",
      "\u001B[31mValueError\u001B[39m                                Traceback (most recent call last)",
      "\u001B[36mCell\u001B[39m\u001B[36m \u001B[39m\u001B[32mIn[83]\u001B[39m\u001B[32m, line 20\u001B[39m\n\u001B[32m     17\u001B[39m         \u001B[38;5;28;01mraise\u001B[39;00m \u001B[38;5;167;01mValueError\u001B[39;00m(\u001B[33m\"\u001B[39m\u001B[33mAt least two arguments are required\u001B[39m\u001B[33m\"\u001B[39m)\n\u001B[32m     19\u001B[39m calc = Calc()\n\u001B[32m---> \u001B[39m\u001B[32m20\u001B[39m \u001B[38;5;28mprint\u001B[39m(\u001B[43mcalc\u001B[49m\u001B[43m.\u001B[49m\u001B[43madd\u001B[49m\u001B[43m(\u001B[49m\u001B[32;43m1\u001B[39;49m\u001B[43m)\u001B[49m)\n",
      "\u001B[36mCell\u001B[39m\u001B[36m \u001B[39m\u001B[32mIn[83]\u001B[39m\u001B[32m, line 17\u001B[39m, in \u001B[36mCalc.add\u001B[39m\u001B[34m(self, first, second, third)\u001B[39m\n\u001B[32m     14\u001B[39m \u001B[38;5;28;01melif\u001B[39;00m second \u001B[38;5;129;01mis\u001B[39;00m \u001B[38;5;129;01mnot\u001B[39;00m \u001B[38;5;28;01mNone\u001B[39;00m \u001B[38;5;129;01mand\u001B[39;00m third \u001B[38;5;129;01mis\u001B[39;00m \u001B[38;5;129;01mnot\u001B[39;00m \u001B[38;5;28;01mNone\u001B[39;00m:\n\u001B[32m     15\u001B[39m     \u001B[38;5;28;01mreturn\u001B[39;00m second + third\n\u001B[32m---> \u001B[39m\u001B[32m17\u001B[39m \u001B[38;5;28;01mraise\u001B[39;00m \u001B[38;5;167;01mValueError\u001B[39;00m(\u001B[33m\"\u001B[39m\u001B[33mAt least two arguments are required\u001B[39m\u001B[33m\"\u001B[39m)\n",
      "\u001B[31mValueError\u001B[39m: At least two arguments are required"
     ]
    }
   ],
   "execution_count": 83
  }
 ],
 "metadata": {
  "kernelspec": {
   "display_name": "Python 3",
   "language": "python",
   "name": "python3"
  },
  "language_info": {
   "codemirror_mode": {
    "name": "ipython",
    "version": 2
   },
   "file_extension": ".py",
   "mimetype": "text/x-python",
   "name": "python",
   "nbconvert_exporter": "python",
   "pygments_lexer": "ipython2",
   "version": "2.7.6"
  }
 },
 "nbformat": 4,
 "nbformat_minor": 5
}
