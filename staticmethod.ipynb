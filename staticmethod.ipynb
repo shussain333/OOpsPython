{
 "cells": [
  {
   "metadata": {},
   "cell_type": "markdown",
   "source": [
    "## Static Methods\n",
    "\n",
    "### Generally there are 3 types of method\n",
    "\n",
    "1. Instance method/function -   It works on instance of a class and scope is limited to instance only. [InstanceVariable.ipynb](InstanceVariable.ipynb)\n",
    "2. Class method/function    -   It works on class level variables. [ClassVariable.ipynb](ClassVariable.ipynb)\n",
    "3. static method/function   -   These are the methods which performs operation on external data. A data which does not belong to either class or Instance.\n",
    "    1. This method also performs operation on class data/variables.\n",
    "    2. It is created using @staticmethod"
   ],
   "id": "ca02076f3fa39267"
  },
  {
   "cell_type": "code",
   "id": "initial_id",
   "metadata": {
    "collapsed": true,
    "ExecuteTime": {
     "end_time": "2025-10-05T10:54:30.789315Z",
     "start_time": "2025-10-05T10:54:30.786512Z"
    }
   },
   "source": [
    "class Bank:\n",
    "    BANK_NAME = 'AU bank'\n",
    "    ROI = 12.45\n",
    "\n",
    "    @staticmethod\n",
    "    def simple_interest(principal, no_of_years):    # here principal and no_of_years data does not belong to either this class or instance of this class. These are the external data, needed by this class, hence we can use @staticmethod decorator.\n",
    "        si = (principal * no_of_years * Bank.ROI)/100\n",
    "        return si\n",
    "\n",
    "b1 = Bank()\n",
    "print(b1.simple_interest(100, 10))\n",
    "print(Bank.simple_interest(33, 10))"
   ],
   "outputs": [
    {
     "name": "stdout",
     "output_type": "stream",
     "text": [
      "124.5\n",
      "41.085\n"
     ]
    }
   ],
   "execution_count": 8
  }
 ],
 "metadata": {
  "kernelspec": {
   "display_name": "Python 3",
   "language": "python",
   "name": "python3"
  },
  "language_info": {
   "codemirror_mode": {
    "name": "ipython",
    "version": 2
   },
   "file_extension": ".py",
   "mimetype": "text/x-python",
   "name": "python",
   "nbconvert_exporter": "python",
   "pygments_lexer": "ipython2",
   "version": "2.7.6"
  }
 },
 "nbformat": 4,
 "nbformat_minor": 5
}
