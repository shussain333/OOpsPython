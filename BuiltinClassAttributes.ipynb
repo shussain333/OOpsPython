{
 "cells": [
  {
   "metadata": {},
   "cell_type": "markdown",
   "source": [
    "# Know your class\n",
    "## There are few attributes by default available for each class\n",
    "\n",
    "1. __doc__ : Returns the docs defined inside a class.\n",
    "2. __dict__: Returns all the attribute_name and corresponding value of a class.\n",
    "3. __name__: It returns name of the class.\n",
    "4. __module__: It returns module of the class, from where that class belongs to.\n",
    "5. __bases__: It returns the bases of a class. Mostly you can see this in Inheritance"
   ],
   "id": "faf978b17200b6aa"
  },
  {
   "metadata": {
    "collapsed": true,
    "ExecuteTime": {
     "end_time": "2025-10-02T18:33:19.026342Z",
     "start_time": "2025-10-02T18:33:19.022883Z"
    }
   },
   "cell_type": "code",
   "source": [
    "class BuiltinClassAttributes:\n",
    "    \"\"\"\n",
    "    This class is holding 2 attributes which are initialised with default values.\n",
    "    These default value will be same for each object.\n",
    "    For example: u1 and u2 are 2 objects created using BuiltinClassAttributes(), then both will have same values aagainst each attribute.\n",
    "    \"\"\"\n",
    "    def __init__(self):\n",
    "        self.name = \"John\"\n",
    "        self.age = 2\n",
    "\n",
    "b1 = BuiltinClassAttributes()\n",
    "print(b1.name)\n",
    "print(b1.age)\n",
    "\n",
    "print(b1.__doc__)\n",
    "print(b1.__dict__)\n",
    "print(b1.__class__.__dict__)\n",
    "print(b1.__class__.__name__)\n",
    "print(b1.__class__.__module__)\n",
    "print(b1.__class__.__qualname__)\n",
    "print(b1.__class__.__bases__)\n",
    "print(b1.__class__.__base__)"
   ],
   "id": "c24011e63572ec7d",
   "outputs": [
    {
     "name": "stdout",
     "output_type": "stream",
     "text": [
      "John\n",
      "2\n",
      "\n",
      "    This class is holding 2 attributes which are initialised with default values.\n",
      "    These default value will be same for each object.\n",
      "    For example: u1 and u2 are 2 objects created using BuiltinClassAttributes(), then both will have same values aagainst each attribute.\n",
      "    \n",
      "{'name': 'John', 'age': 2}\n",
      "{'__module__': '__main__', '__doc__': '\\n    This class is holding 2 attributes which are initialised with default values.\\n    These default value will be same for each object.\\n    For example: u1 and u2 are 2 objects created using BuiltinClassAttributes(), then both will have same values aagainst each attribute.\\n    ', '__init__': <function BuiltinClassAttributes.__init__ at 0x108d605e0>, '__dict__': <attribute '__dict__' of 'BuiltinClassAttributes' objects>, '__weakref__': <attribute '__weakref__' of 'BuiltinClassAttributes' objects>}\n",
      "BuiltinClassAttributes\n",
      "__main__\n",
      "BuiltinClassAttributes\n",
      "(<class 'object'>,)\n"
     ]
    }
   ],
   "execution_count": 10
  }
 ],
 "metadata": {
  "kernelspec": {
   "display_name": "Python 3",
   "language": "python",
   "name": "python3"
  },
  "language_info": {
   "codemirror_mode": {
    "name": "ipython",
    "version": 2
   },
   "file_extension": ".py",
   "mimetype": "text/x-python",
   "name": "python",
   "nbconvert_exporter": "python",
   "pygments_lexer": "ipython2",
   "version": "2.7.6"
  }
 },
 "nbformat": 4,
 "nbformat_minor": 5
}
