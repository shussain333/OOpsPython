{
 "cells": [
  {
   "metadata": {},
   "cell_type": "markdown",
   "source": [
    "## Know isinstanceof to check the class type\n",
    "\n",
    "1. isinstanceof(reference, class_name)\n",
    "2. issubclassof(sub_class_name, parent_class_name)"
   ],
   "id": "90a3fbce69885a76"
  },
  {
   "cell_type": "code",
   "id": "initial_id",
   "metadata": {
    "collapsed": true,
    "ExecuteTime": {
     "end_time": "2025-10-05T09:39:06.166016Z",
     "start_time": "2025-10-05T09:39:06.162142Z"
    }
   },
   "source": [
    "class Demo:\n",
    "    def __init__(self):\n",
    "        pass\n",
    "\n",
    "class Employee:\n",
    "    def __init__(self):\n",
    "        pass\n",
    "\n",
    "d1 = Demo()\n",
    "e1 = Employee()\n",
    "\n",
    "print(isinstance(e1, Employee)) # True\n",
    "print(isinstance(d1, Demo))     # True\n",
    "print(isinstance(e1, Demo))     # False\n",
    "print(isinstance(d1, Employee)) # False"
   ],
   "outputs": [
    {
     "name": "stdout",
     "output_type": "stream",
     "text": [
      "True\n",
      "True\n",
      "False\n",
      "False\n"
     ]
    }
   ],
   "execution_count": 6
  },
  {
   "metadata": {},
   "cell_type": "markdown",
   "source": "## Check if class is a subclass of other class or In other word, check the parent of a class",
   "id": "15f97da56d78be8c"
  },
  {
   "metadata": {
    "ExecuteTime": {
     "end_time": "2025-10-05T09:39:06.186335Z",
     "start_time": "2025-10-05T09:39:06.183612Z"
    }
   },
   "cell_type": "code",
   "source": [
    "class Person:\n",
    "    def __init__(self):\n",
    "        pass\n",
    "\n",
    "class Employee(Person):\n",
    "    def __init__(self):\n",
    "        super().__init__()\n",
    "        pass\n",
    "\n",
    "e1 = Employee()\n",
    "p1 = Person()\n",
    "print(isinstance(e1, Employee))\n",
    "print(isinstance(e1, Person))\n",
    "\n",
    "print(isinstance(e1, Person))       # True\n",
    "print(issubclass(Employee, Person)) # True\n",
    "print(issubclass(Person, Person))   # True\n",
    "print(issubclass(Person, Employee)) # False"
   ],
   "id": "a49d2444532e4b9c",
   "outputs": [
    {
     "name": "stdout",
     "output_type": "stream",
     "text": [
      "True\n",
      "True\n",
      "True\n",
      "True\n",
      "True\n",
      "False\n"
     ]
    }
   ],
   "execution_count": 7
  }
 ],
 "metadata": {
  "kernelspec": {
   "display_name": "Python 3",
   "language": "python",
   "name": "python3"
  },
  "language_info": {
   "codemirror_mode": {
    "name": "ipython",
    "version": 2
   },
   "file_extension": ".py",
   "mimetype": "text/x-python",
   "name": "python",
   "nbconvert_exporter": "python",
   "pygments_lexer": "ipython2",
   "version": "2.7.6"
  }
 },
 "nbformat": 4,
 "nbformat_minor": 5
}
