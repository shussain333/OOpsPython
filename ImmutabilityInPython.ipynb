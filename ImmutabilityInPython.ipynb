{
 "cells": [
  {
   "metadata": {},
   "cell_type": "markdown",
   "source": "## We will see ways to create Immutable classes in Python",
   "id": "ca8b2b5ec2791265"
  },
  {
   "metadata": {},
   "cell_type": "markdown",
   "source": "### 1. Class with Getters but no Setters",
   "id": "ae69a69e4036940d"
  },
  {
   "metadata": {
    "ExecuteTime": {
     "end_time": "2025-10-02T17:18:31.366314Z",
     "start_time": "2025-10-02T17:18:31.361845Z"
    }
   },
   "cell_type": "code",
   "source": [
    "from dataclasses import dataclass\n",
    "\n",
    "\n",
    "class ImmutableRobot:\n",
    "    def __init__(self, name, brand_name):\n",
    "        self.name = name\n",
    "        self.brand_name = brand_name\n",
    "\n",
    "    def get_name(self):\n",
    "        return self.name\n",
    "\n",
    "    def get_brand_name(self):\n",
    "        return self.brand_name\n",
    "\n",
    "\n",
    "i1 = ImmutableRobot(\"RoboX\", \"TechAuto\")\n",
    "print(i1.get_name())\n",
    "print(i1.get_brand_name())\n",
    "\n",
    "i1.name = \"RoboX1\"\n",
    "print(i1.get_name())\n",
    "print(i1.get_brand_name())"
   ],
   "id": "def75941c45708e5",
   "outputs": [
    {
     "name": "stdout",
     "output_type": "stream",
     "text": [
      "RoboX\n",
      "TechAuto\n",
      "RoboX1\n",
      "TechAuto\n"
     ]
    }
   ],
   "execution_count": 1
  },
  {
   "metadata": {},
   "cell_type": "markdown",
   "source": "Above class is not truly immutable, hence try to modify it a little bit -",
   "id": "14631c6a73e84161"
  },
  {
   "cell_type": "code",
   "id": "initial_id",
   "metadata": {
    "collapsed": true,
    "ExecuteTime": {
     "end_time": "2025-10-02T17:18:31.373677Z",
     "start_time": "2025-10-02T17:18:31.369601Z"
    }
   },
   "source": [
    "class CustomImmutableClass:\n",
    "    def __init__(self, name, brand_name):\n",
    "        self.__name = name    # Since we are not defining any setter method for \"value\", that is the reason we will have to have __value attribute to hold the value.\n",
    "        self.__brand_name = brand_name\n",
    "\n",
    "    @property\n",
    "    def name(self):\n",
    "        return self.__name\n",
    "    @property\n",
    "    def brand_name(self):\n",
    "        return self.__brand_name\n",
    "\n",
    "ic1 = CustomImmutableClass(\"RoboX\", \"TechAuto\")\n",
    "print(ic1.name)\n",
    "print(ic1.brand_name)\n",
    "ic1.name1 = \"RoboX11\"   # It is still allowing to add new attribute. So it's not immutable.\n",
    "\n",
    "ic2 = CustomImmutableClass(\"RoboX2\", \"TechAuto1\")\n",
    "print(ic2.name)\n",
    "print(ic2.brand_name)\n",
    "\n",
    "try:\n",
    "    ic1.name = \"RoboX111\"\n",
    "except AttributeError as ae:\n",
    "    print(ae)\n",
    "\n",
    "print(ic1.__dict__)\n",
    "print(ic2.__dict__)\n",
    "# setattr(ic1, 'value', 100)    # Error since there is no setter method for attribute \"value\""
   ],
   "outputs": [
    {
     "name": "stdout",
     "output_type": "stream",
     "text": [
      "RoboX\n",
      "TechAuto\n",
      "RoboX2\n",
      "TechAuto1\n",
      "property 'name' of 'CustomImmutableClass' object has no setter\n",
      "{'_CustomImmutableClass__name': 'RoboX', '_CustomImmutableClass__brand_name': 'TechAuto', 'name1': 'RoboX11'}\n",
      "{'_CustomImmutableClass__name': 'RoboX2', '_CustomImmutableClass__brand_name': 'TechAuto1'}\n"
     ]
    }
   ],
   "execution_count": 2
  },
  {
   "metadata": {},
   "cell_type": "markdown",
   "source": [
    "### 2. Using the dataclass Decorator\n",
    "\n",
    "Adding `frozen=True` into `@dataclass` decorator, makes this class as Immutable class"
   ],
   "id": "adeedf7c909fe716"
  },
  {
   "metadata": {
    "ExecuteTime": {
     "end_time": "2025-10-02T17:18:31.389931Z",
     "start_time": "2025-10-02T17:18:31.386701Z"
    }
   },
   "cell_type": "code",
   "source": [
    "from dataclasses import dataclass\n",
    "\n",
    "@dataclass(frozen=True)     ## Adding frozen=True, makes this class as Immutable class\n",
    "class ImmutableRobot:\n",
    "    name: str\n",
    "    brand_name: str\n",
    "\n",
    "robot = ImmutableRobot(\"RoboX\", \"TechAuto\")\n",
    "# robot.name1 = \"RoboX11\"   # It is not allowed to add any additional attribute in the class\n",
    "print(robot.name)\n",
    "print(robot.brand_name)\n",
    "\n",
    "try:\n",
    "    robot.name = \"RoboX111\"\n",
    "except AttributeError as ae:\n",
    "    print(ae)\n",
    "\n",
    "print(robot.__dict__)"
   ],
   "id": "44dc056d080b95fc",
   "outputs": [
    {
     "name": "stdout",
     "output_type": "stream",
     "text": [
      "RoboX\n",
      "TechAuto\n",
      "cannot assign to field 'name'\n",
      "{'name': 'RoboX', 'brand_name': 'TechAuto'}\n"
     ]
    }
   ],
   "execution_count": 3
  },
  {
   "metadata": {},
   "cell_type": "markdown",
   "source": "## 3. Using namedtuble from collections",
   "id": "3c961174b79d3ac4"
  },
  {
   "metadata": {
    "ExecuteTime": {
     "end_time": "2025-10-02T17:18:31.406452Z",
     "start_time": "2025-10-02T17:18:31.404195Z"
    }
   },
   "cell_type": "code",
   "source": [
    "from collections import namedtuple\n",
    "\n",
    "ImmutableRobotTuple = namedtuple(\"ImmutableRobotTuple\", [\"name\", \"brand_name\"])\n",
    "\n",
    "# Example usees\n",
    "robot = ImmutableRobot(\"RoboX\", \"TechAuto\")\n",
    "print(robot.name)\n",
    "print(robot.brand_name)\n",
    "\n",
    "try:\n",
    "    robot.name = \"RoboX111\"\n",
    "except AttributeError as ae:\n",
    "    print(ae)\n",
    "\n",
    "try:\n",
    "    robot.brand_name = \"TechAuto1\"\n",
    "except AttributeError as ae:\n",
    "    print(ae)"
   ],
   "id": "61ad01870b68f50",
   "outputs": [
    {
     "name": "stdout",
     "output_type": "stream",
     "text": [
      "RoboX\n",
      "TechAuto\n",
      "cannot assign to field 'name'\n",
      "cannot assign to field 'brand_name'\n"
     ]
    }
   ],
   "execution_count": 4
  }
 ],
 "metadata": {
  "kernelspec": {
   "display_name": "Python 3",
   "language": "python",
   "name": "python3"
  },
  "language_info": {
   "codemirror_mode": {
    "name": "ipython",
    "version": 2
   },
   "file_extension": ".py",
   "mimetype": "text/x-python",
   "name": "python",
   "nbconvert_exporter": "python",
   "pygments_lexer": "ipython2",
   "version": "2.7.6"
  }
 },
 "nbformat": 4,
 "nbformat_minor": 5
}
