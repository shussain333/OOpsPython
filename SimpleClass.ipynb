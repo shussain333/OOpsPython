{
 "cells": [
  {
   "metadata": {},
   "cell_type": "markdown",
   "source": [
    "## Class Definition:\n",
    "1. Class is a blueprint or template of an object.\n",
    "2. It is defined with the name followed by Name and colon (:)\n",
    "3. Class can be created by using keyword `class Name:`"
   ],
   "id": "6129f026bb7be05f"
  },
  {
   "metadata": {},
   "cell_type": "markdown",
   "source": "### Let's create a class",
   "id": "74983ad82eaae8fb"
  },
  {
   "cell_type": "code",
   "id": "initial_id",
   "metadata": {
    "collapsed": true,
    "ExecuteTime": {
     "end_time": "2025-10-02T12:31:19.039586Z",
     "start_time": "2025-10-02T12:31:19.037817Z"
    }
   },
   "source": [
    "class SimpleClass:\n",
    "    pass            # pass is a keyword or placeholder for defining logic later. It is used to make class/function/loop/condition to syntactically correct and later developer can fill in the logic."
   ],
   "outputs": [],
   "execution_count": 3
  },
  {
   "metadata": {},
   "cell_type": "markdown",
   "source": [
    "### Let's Create an Object of class:\n",
    "\n",
    "s1 and s2 are the reference, which is pointing to the Object created by using `SimpleClass()`"
   ],
   "id": "53e24fcda3d9aa9a"
  },
  {
   "metadata": {
    "ExecuteTime": {
     "end_time": "2025-10-02T12:31:19.068246Z",
     "start_time": "2025-10-02T12:31:19.066535Z"
    }
   },
   "cell_type": "code",
   "source": [
    "s1 = SimpleClass()\n",
    "s2 = SimpleClass()\n"
   ],
   "id": "b24b0ac9f8d9d535",
   "outputs": [],
   "execution_count": 4
  },
  {
   "metadata": {},
   "cell_type": "markdown",
   "source": [
    "### Let's print both the object.\n",
    "When it was printed, you can observe that it has got some memory allocation `0x10c77cad0`. Each object has got different memory location.\n",
    "\n",
    "`<__main__.SimpleClass object at 0x10c77cad0>`"
   ],
   "id": "e97c48b404b42482"
  },
  {
   "metadata": {
    "ExecuteTime": {
     "end_time": "2025-10-02T12:31:19.082134Z",
     "start_time": "2025-10-02T12:31:19.080373Z"
    }
   },
   "cell_type": "code",
   "source": [
    "print(s1)\n",
    "print(s2)"
   ],
   "id": "dbd5ef39af4edefa",
   "outputs": [
    {
     "name": "stdout",
     "output_type": "stream",
     "text": [
      "<__main__.SimpleClass object at 0x10c77cad0>\n",
      "<__main__.SimpleClass object at 0x10c26adb0>\n"
     ]
    }
   ],
   "execution_count": 5
  },
  {
   "metadata": {},
   "cell_type": "markdown",
   "source": [
    "### Let's now print the type of each reference `(s1, s2)`\n",
    "\n",
    "Each reference type is `SimpleClass` type."
   ],
   "id": "a79475c06725f4d5"
  },
  {
   "metadata": {
    "ExecuteTime": {
     "end_time": "2025-10-02T12:31:19.088704Z",
     "start_time": "2025-10-02T12:31:19.086955Z"
    }
   },
   "cell_type": "code",
   "source": [
    "print(type(s1))\n",
    "print(type(s2))"
   ],
   "id": "e0c104acd4b8f9af",
   "outputs": [
    {
     "name": "stdout",
     "output_type": "stream",
     "text": [
      "<class '__main__.SimpleClass'>\n",
      "<class '__main__.SimpleClass'>\n"
     ]
    }
   ],
   "execution_count": 6
  }
 ],
 "metadata": {
  "kernelspec": {
   "display_name": "Python 3",
   "language": "python",
   "name": "python3"
  },
  "language_info": {
   "codemirror_mode": {
    "name": "ipython",
    "version": 2
   },
   "file_extension": ".py",
   "mimetype": "text/x-python",
   "name": "python",
   "nbconvert_exporter": "python",
   "pygments_lexer": "ipython2",
   "version": "2.7.6"
  }
 },
 "nbformat": 4,
 "nbformat_minor": 5
}
