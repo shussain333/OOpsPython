{
 "cells": [
  {
   "metadata": {},
   "cell_type": "markdown",
   "source": [
    "## Class Variables\n",
    "\n",
    "class variables are defined inside the class. This variable value is common for all the objects. Means 1 copy of class variable will be available for all the objects. ___It is a kind of static variable for in `Java`___\n",
    "\n",
    "1. Variable made for entire class (All objects).\n",
    "2. Only one copt is created and distributed to all the objects.\n",
    "3. Modification in class variable impact on all objects\n",
    "\n",
    "**Note - Class variable can be accessed using class name**\n",
    "\n",
    "```Ex: Student.college```\n",
    "\n",
    "### You can access class variable using object reference \"s1\" but cannot modify using \"s1\" reference. For modification, you will have to use class name."
   ],
   "id": "d488d3d5920e9112"
  },
  {
   "metadata": {
    "ExecuteTime": {
     "end_time": "2025-10-05T10:29:45.397656Z",
     "start_time": "2025-10-05T10:29:37.557648Z"
    }
   },
   "cell_type": "code",
   "source": [
    "class Student:\n",
    "    college = \"College_Name\"    # It is available for all the objects. But none of the object will be able to modify it.\n",
    "    def __init__(self, name, age):\n",
    "        self.name = name\n",
    "        self.age = age\n",
    "\n",
    "s1 = Student(\"Sartaj\", 23)\n",
    "s2 = Student(\"Aryan\", 36)\n",
    "\n",
    "print(s1.__dict__)\n",
    "print(s2.__dict__)\n",
    "\n",
    "# You can access class variable using object reference \"s1\" but cannot modify using \"s1\" reference. For modification, you will have to use class name.\n",
    "print(s1.college)\n",
    "\n",
    "s1.college = \"New_College_Name\"\n",
    "print(s1.college)\n",
    "print(s1.__dict__) # it is clear that by \"s1.college = \"New_College_Name\"\", it will create a variable inside reference but class variable is still safe.\n",
    "print(Student.college)"
   ],
   "id": "d7a06c5f855c7ba9",
   "outputs": [
    {
     "name": "stdout",
     "output_type": "stream",
     "text": [
      "{'name': 'Sartaj', 'age': 23}\n",
      "{'name': 'Aryan', 'age': 36}\n",
      "College_Name\n",
      "New_College_Name\n",
      "{'name': 'Sartaj', 'age': 23, 'college': 'New_College_Name'}\n",
      "College_Name\n"
     ]
    }
   ],
   "execution_count": 1
  },
  {
   "metadata": {},
   "cell_type": "markdown",
   "source": [
    "## Another way to modified using class variable `Class method`\n",
    "\n",
    "1. Class method works on class variable.\n",
    "2. First argument is class reference. Note - for object reference self used to pass.\n",
    "3. Made using decorator `@classmethod`. Note - it is a builtin decorator. It is similar to static method in `Java`"
   ],
   "id": "1bcd08cd0a47b5bd"
  },
  {
   "metadata": {
    "ExecuteTime": {
     "end_time": "2025-10-05T10:21:29.817791Z",
     "start_time": "2025-10-05T10:21:29.814813Z"
    }
   },
   "cell_type": "code",
   "source": [
    "class Employee:\n",
    "    COMPANY = \"company_name\"\n",
    "    def __init__(self, name, age):\n",
    "        self.name = name\n",
    "        self.age = age\n",
    "\n",
    "    @classmethod\n",
    "    def get_company_name(cls):  # cls is a class reference. It is similar to self variable for a Instance object.\n",
    "        return cls.COMPANY\n",
    "\n",
    "    @classmethod\n",
    "    def set_company_name(cls, name):\n",
    "        cls.COMPANY = name\n",
    "\n",
    "e1 = Employee(\"Sartaj\", 23)\n",
    "e2 = Employee(\"Aryan\", 36)\n",
    "print(e1.__dict__)\n",
    "print(e2.__dict__)\n",
    "\n",
    "print(Employee.get_company_name())\n",
    "Employee.set_company_name(name=\"New_Company_name\")\n",
    "print(e1.get_company_name())\n",
    "print(e2.get_company_name())\n",
    "\n",
    "e1.set_company_name(\"Test\")\n",
    "print(e1.get_company_name())\n",
    "print(e2.get_company_name())"
   ],
   "id": "39a489ee8ec13a70",
   "outputs": [
    {
     "name": "stdout",
     "output_type": "stream",
     "text": [
      "{'name': 'Sartaj', 'age': 23}\n",
      "{'name': 'Aryan', 'age': 36}\n",
      "company_name\n",
      "New_Company_name\n",
      "New_Company_name\n",
      "Test\n",
      "Test\n"
     ]
    }
   ],
   "execution_count": 2
  }
 ],
 "metadata": {
  "kernelspec": {
   "display_name": "Python 3",
   "language": "python",
   "name": "python3"
  },
  "language_info": {
   "codemirror_mode": {
    "name": "ipython",
    "version": 2
   },
   "file_extension": ".py",
   "mimetype": "text/x-python",
   "name": "python",
   "nbconvert_exporter": "python",
   "pygments_lexer": "ipython2",
   "version": "2.7.6"
  }
 },
 "nbformat": 4,
 "nbformat_minor": 5
}
