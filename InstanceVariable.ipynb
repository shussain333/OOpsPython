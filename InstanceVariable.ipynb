{
 "cells": [
  {
   "metadata": {},
   "cell_type": "markdown",
   "source": "## Instance Variable",
   "id": "2ab407bb6277a6f1"
  },
  {
   "metadata": {},
   "cell_type": "markdown",
   "source": [
    "**When instance is created, then a memory allocated in the heap for that object**\n",
    "\n",
    "Let's take below example, `sd1` is a reference, which is pointing to the object `Employee()`, so a memory will be allocated for `Employee()` object and both the variable `name`, `mark` will be initialised with default value, which are passed in `Student(\"John\", 100)` way.\n",
    "\n",
    "***Each object will have separate copy in the Heap**\n",
    "\n",
    "Same goes for `sd2` and `sd3` as well. And both of these reference will point to their respective objects.\n",
    "\n",
    "__Each object will have seperate memory location, and each will have different value for their attributes__\n",
    "\n",
    "```\n",
    "sd1 = Student(\"John\", 100)\n",
    "sd2 = Student(\"Kia\", 200)\n",
    "sd3 = Student(\"Sartaj\", 150)\n",
    "```\n",
    "\n",
    "Since, 3 objects were created, which are referenced by `sd1`, `sd2`, `sd3` and each one is having different value. `sd1` don't know about `sd2` and vise versa, and attribute values are specific to their object. **__So these are called `Instance Variable` because their scope is limited to their respective object only.__**"
   ],
   "id": "87c3126dbac35407"
  },
  {
   "cell_type": "code",
   "id": "initial_id",
   "metadata": {
    "collapsed": true,
    "ExecuteTime": {
     "end_time": "2025-10-05T09:53:21.905253Z",
     "start_time": "2025-10-05T09:53:21.902742Z"
    }
   },
   "source": [
    "class Student:\n",
    "    name: str\n",
    "    mark: int\n",
    "    def __init__(self, name: str, mark: int):\n",
    "        self.name = name\n",
    "        self.mark = mark\n",
    "\n",
    "\n",
    "sd1 = Student(\"John\", 100)\n",
    "sd2 = Student(\"Kia\", 200)\n",
    "sd3 = Student(\"Sartaj\", 150)\n",
    "\n",
    "print(sd1.__dict__)\n",
    "print(sd2.__dict__)\n",
    "print(sd3.__dict__)\n",
    "\n",
    "sd1.name = \"John1\"  # Only impact in sd1, and sd2, sd3 are still safe\n",
    "print(sd1.__dict__)\n",
    "print(sd2.__dict__)\n",
    "print(sd3.__dict__)\n"
   ],
   "outputs": [
    {
     "name": "stdout",
     "output_type": "stream",
     "text": [
      "{'name': 'John', 'mark': 100}\n",
      "{'name': 'Kia', 'mark': 200}\n",
      "{'name': 'Sartaj', 'mark': 150}\n",
      "{'name': 'John1', 'mark': 100}\n",
      "{'name': 'Kia', 'mark': 200}\n",
      "{'name': 'Sartaj', 'mark': 150}\n"
     ]
    }
   ],
   "execution_count": 9
  }
 ],
 "metadata": {
  "kernelspec": {
   "display_name": "Python 3",
   "language": "python",
   "name": "python3"
  },
  "language_info": {
   "codemirror_mode": {
    "name": "ipython",
    "version": 2
   },
   "file_extension": ".py",
   "mimetype": "text/x-python",
   "name": "python",
   "nbconvert_exporter": "python",
   "pygments_lexer": "ipython2",
   "version": "2.7.6"
  }
 },
 "nbformat": 4,
 "nbformat_minor": 5
}
