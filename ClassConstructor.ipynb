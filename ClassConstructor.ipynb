{
 "cells": [
  {
   "metadata": {},
   "cell_type": "markdown",
   "source": [
    "## Class constructor\n",
    "\n",
    "A constructor can be created using `__init__()` function.\n",
    "\n",
    "**In python, everything is a function**"
   ],
   "id": "66c605fa75a0c86c"
  },
  {
   "metadata": {},
   "cell_type": "markdown",
   "source": "### Let's declare a class with constructor",
   "id": "ff57c5bd493f34e2"
  },
  {
   "metadata": {
    "ExecuteTime": {
     "end_time": "2025-10-02T12:43:47.315147Z",
     "start_time": "2025-10-02T12:43:47.312672Z"
    }
   },
   "cell_type": "code",
   "source": [
    "class Simple:\n",
    "    def __init__(self):\n",
    "        pass            # pass is a keyword or placeholder for defining logic later. It is used to make class/function/loop/condition to syntactically correct and later developer can fill in the logic."
   ],
   "id": "d9caf66ba36c9841",
   "outputs": [],
   "execution_count": 3
  },
  {
   "cell_type": "code",
   "id": "initial_id",
   "metadata": {
    "collapsed": true,
    "ExecuteTime": {
     "end_time": "2025-10-02T12:43:47.333281Z",
     "start_time": "2025-10-02T12:43:47.330677Z"
    }
   },
   "source": [
    "s1 = Simple()\n",
    "s2 = Simple()\n",
    "\n",
    "print(type(s1))\n",
    "print(type(s2))"
   ],
   "outputs": [
    {
     "name": "stdout",
     "output_type": "stream",
     "text": [
      "<class '__main__.Simple'>\n",
      "<class '__main__.Simple'>\n"
     ]
    }
   ],
   "execution_count": 4
  },
  {
   "metadata": {},
   "cell_type": "markdown",
   "source": "### Let's check the attributes of the class",
   "id": "8a2d9ffa7bee9e29"
  },
  {
   "metadata": {
    "ExecuteTime": {
     "end_time": "2025-10-02T12:43:47.341332Z",
     "start_time": "2025-10-02T12:43:47.339291Z"
    }
   },
   "cell_type": "code",
   "source": [
    "print(s1.__dict__)\n",
    "print(s2.__dict__)"
   ],
   "id": "3f26c716665db036",
   "outputs": [
    {
     "name": "stdout",
     "output_type": "stream",
     "text": [
      "{}\n",
      "{}\n"
     ]
    }
   ],
   "execution_count": 5
  },
  {
   "metadata": {},
   "cell_type": "markdown",
   "source": "Since class does not have any attributes, it has printed empty with brackets `{}`",
   "id": "1f34fd3b7a650b54"
  }
 ],
 "metadata": {
  "kernelspec": {
   "display_name": "Python 3",
   "language": "python",
   "name": "python3"
  },
  "language_info": {
   "codemirror_mode": {
    "name": "ipython",
    "version": 2
   },
   "file_extension": ".py",
   "mimetype": "text/x-python",
   "name": "python",
   "nbconvert_exporter": "python",
   "pygments_lexer": "ipython2",
   "version": "2.7.6"
  }
 },
 "nbformat": 4,
 "nbformat_minor": 5
}
