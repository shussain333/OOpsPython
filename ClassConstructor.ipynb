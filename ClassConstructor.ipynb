{
 "cells": [
  {
   "metadata": {},
   "cell_type": "markdown",
   "source": [
    "## Class constructor\n",
    "\n",
    "A constructor can be created using `__init__()` function.\n",
    "\n",
    "**In python, everything is a function**"
   ],
   "id": "66c605fa75a0c86c"
  },
  {
   "metadata": {},
   "cell_type": "markdown",
   "source": "### Let's declare a class with constructor",
   "id": "ff57c5bd493f34e2"
  },
  {
   "metadata": {
    "ExecuteTime": {
     "end_time": "2025-10-02T12:59:28.484685Z",
     "start_time": "2025-10-02T12:59:28.481937Z"
    }
   },
   "cell_type": "code",
   "source": [
    "class Simple:\n",
    "    def __init__(self):\n",
    "        pass            # pass is a keyword or placeholder for defining logic later. It is used to make class/function/loop/condition to syntactically correct and later developer can fill in the logic."
   ],
   "id": "d9caf66ba36c9841",
   "outputs": [],
   "execution_count": 1
  },
  {
   "cell_type": "code",
   "id": "initial_id",
   "metadata": {
    "collapsed": true,
    "ExecuteTime": {
     "end_time": "2025-10-02T12:59:28.497496Z",
     "start_time": "2025-10-02T12:59:28.495239Z"
    }
   },
   "source": [
    "s1 = Simple()\n",
    "s2 = Simple()\n",
    "\n",
    "print(type(s1))\n",
    "print(type(s2))"
   ],
   "outputs": [
    {
     "name": "stdout",
     "output_type": "stream",
     "text": [
      "<class '__main__.Simple'>\n",
      "<class '__main__.Simple'>\n"
     ]
    }
   ],
   "execution_count": 2
  },
  {
   "metadata": {},
   "cell_type": "markdown",
   "source": [
    "### Let's check the attributes of the class\n",
    "\n",
    "You can use `__dict__`, which is pronounces as `Dictionary`, used to print all the attributes of that object holding along with its value."
   ],
   "id": "8a2d9ffa7bee9e29"
  },
  {
   "metadata": {
    "ExecuteTime": {
     "end_time": "2025-10-02T12:59:28.514715Z",
     "start_time": "2025-10-02T12:59:28.512946Z"
    }
   },
   "cell_type": "code",
   "source": [
    "print(s1.__dict__)\n",
    "print(s2.__dict__)"
   ],
   "id": "3f26c716665db036",
   "outputs": [
    {
     "name": "stdout",
     "output_type": "stream",
     "text": [
      "{}\n",
      "{}\n"
     ]
    }
   ],
   "execution_count": 3
  },
  {
   "metadata": {},
   "cell_type": "markdown",
   "source": "Since class does not have any attributes, it has printed empty with brackets `{}`",
   "id": "1f34fd3b7a650b54"
  },
  {
   "metadata": {},
   "cell_type": "markdown",
   "source": "## Create class with attributes",
   "id": "aaa4b146305ab74c"
  },
  {
   "metadata": {},
   "cell_type": "markdown",
   "source": [
    "### 1. Class Attributes\n",
    "\n"
   ],
   "id": "8b170bb23d5dba10"
  },
  {
   "metadata": {
    "ExecuteTime": {
     "end_time": "2025-10-02T13:02:08.466169Z",
     "start_time": "2025-10-02T13:02:08.463222Z"
    }
   },
   "cell_type": "code",
   "outputs": [
    {
     "name": "stdout",
     "output_type": "stream",
     "text": [
      "{'name': 'Default Name', 'age': 21}\n",
      "{'name': 'Default Name', 'age': 21}\n",
      "-------------------\n",
      "Default Name\n",
      "21\n"
     ]
    }
   ],
   "execution_count": 8,
   "source": [
    "class Simple1:\n",
    "    def __init__(self):\n",
    "        self.name = \"Default Name\"\n",
    "        self.age = 21       ## Default value for age\n",
    "\n",
    "\n",
    "s1 = Simple1()\n",
    "s2 = Simple1()\n",
    "print(s1.__dict__)\n",
    "print(s2.__dict__)\n",
    "\n",
    "print(\"-------------------\")\n",
    "print(s1.name)\n",
    "print(s1.age)"
   ],
   "id": "6ace9c41f6c38a4f"
  },
  {
   "metadata": {},
   "cell_type": "markdown",
   "source": [
    "### 2. Instance Attributes\n",
    "\n",
    "When there are attributes created and initialised using `__init__` method, then it is called as `Instance Attributes`\n",
    "\n",
    "Since `print(s1.__dict__)` printing `{'name': 'Default Name', 'age': 21}`, which indicates, we can print all the attribute of an object using `__dict__` object."
   ],
   "id": "695cf67b3e45ccd7"
  },
  {
   "metadata": {
    "ExecuteTime": {
     "end_time": "2025-10-02T13:06:21.262468Z",
     "start_time": "2025-10-02T13:06:21.258949Z"
    }
   },
   "cell_type": "code",
   "outputs": [
    {
     "name": "stdout",
     "output_type": "stream",
     "text": [
      "{'name': 'Sartaj', 'age': 2}\n",
      "{'name': 'Ayan', 'age': 22}\n",
      "-------------------\n",
      "Sartaj\n",
      "22\n"
     ]
    }
   ],
   "execution_count": 11,
   "source": [
    "class Simple2:\n",
    "    name: str   # Class attributes\n",
    "    age: int    # Class attributes\n",
    "\n",
    "    def __init__(self, name, age):      ## having attribute here, will force to pass initial value to attributes while creating an Object\n",
    "        self.name = name\n",
    "        self.age = age\n",
    "\n",
    "s1 = Simple2(\"Sartaj\", 2)\n",
    "s2 = Simple2(\"Ayan\", 22)\n",
    "print(s1.__dict__)\n",
    "print(s2.__dict__)\n",
    "\n",
    "print(\"-------------------\")\n",
    "print(s1.name)\n",
    "print(s2.age)"
   ],
   "id": "b34529d10df6c6f5"
  },
  {
   "metadata": {},
   "cell_type": "markdown",
   "source": [
    "#### Another way to set a value to an attribute\n",
    "\n",
    "Dynamically after object creation"
   ],
   "id": "1aa4ecfa4a21b745"
  },
  {
   "metadata": {
    "ExecuteTime": {
     "end_time": "2025-10-02T13:10:42.863872Z",
     "start_time": "2025-10-02T13:10:42.859857Z"
    }
   },
   "cell_type": "code",
   "source": [
    "class Simple3:\n",
    "    name: str\n",
    "    age: int\n",
    "    def __init__(self, name, age):\n",
    "        self.name = name\n",
    "        self.age = age\n",
    "\n",
    "\n",
    "s1 = Simple3(\"Sartaj\", 2)\n",
    "print(s1.__dict__)\n",
    "s1.name = \"Aryan\"       # Replace name in the object s1\n",
    "s1.age = 22             # Replace age in the object s1\n",
    "print(s1.__dict__)\n"
   ],
   "id": "67031f7aa565835e",
   "outputs": [
    {
     "name": "stdout",
     "output_type": "stream",
     "text": [
      "{'name': 'Sartaj', 'age': 2}\n",
      "{'name': 'Aryan', 'age': 22}\n"
     ]
    }
   ],
   "execution_count": 14
  },
  {
   "metadata": {},
   "cell_type": "markdown",
   "source": "Using `setattr`, builtin method to change the value of a created object `dynamically`",
   "id": "fd199f8f3665f7a1"
  },
  {
   "metadata": {
    "ExecuteTime": {
     "end_time": "2025-10-02T13:14:55.320283Z",
     "start_time": "2025-10-02T13:14:55.315062Z"
    }
   },
   "cell_type": "code",
   "source": [
    "class Simple4:\n",
    "    name: str\n",
    "    age: int\n",
    "    def __init__(self, name, age):\n",
    "        self.name = name\n",
    "        self.age = age\n",
    "\n",
    "s1 = Simple4(\"Sartaj\", 2)\n",
    "print(s1.__dict__)\n",
    "print(type(s1.name))\n",
    "\n",
    "setattr(s1, \"age\", 22)\n",
    "print(s1.__dict__)\n",
    "print(type(s1.age))\n",
    "\n",
    "setattr(s1, \"name\", 0.007)      ## It will change the type of name from str to float\n",
    "print(s1.__dict__)\n",
    "print(type(s1.name))"
   ],
   "id": "ff916dfcf1671a55",
   "outputs": [
    {
     "name": "stdout",
     "output_type": "stream",
     "text": [
      "{'name': 'Sartaj', 'age': 2}\n",
      "<class 'str'>\n",
      "{'name': 'Sartaj', 'age': 22}\n",
      "<class 'int'>\n",
      "{'name': 0.007, 'age': 22}\n",
      "<class 'float'>\n"
     ]
    }
   ],
   "execution_count": 22
  },
  {
   "metadata": {},
   "cell_type": "markdown",
   "source": [
    "### 3. Managed attributes\n",
    "\n",
    "You can use `@property` decorator on top of method. Means, `@property` allows methods to be accessed like attributes, providing a way to add logic (ex; validation, computation) when an attribute is accessed or modified."
   ],
   "id": "5c83b1e8bfcf690"
  },
  {
   "metadata": {
    "ExecuteTime": {
     "end_time": "2025-10-02T13:26:30.330731Z",
     "start_time": "2025-10-02T13:26:30.327446Z"
    }
   },
   "cell_type": "code",
   "source": [
    "class Simple5:\n",
    "    def __init__(self, name, age):\n",
    "        self.name = name\n",
    "        self.age = age\n",
    "\n",
    "    @property\n",
    "    def age_value(self):\n",
    "        return self.age\n",
    "\n",
    "    @age_value.setter\n",
    "    def age_value(self, age):\n",
    "        if age > 21:\n",
    "            self.age = age\n",
    "        else:\n",
    "            print(\"age must be greater than 21\")\n",
    "\n",
    "\n",
    "s1 = Simple5(\"Sartaj\", 2)\n",
    "print(s1.__dict__)\n",
    "\n",
    "s1.age_value = 22\n",
    "print(s1.age)\n",
    "\n",
    "print(\"--------------------\")\n",
    "s1.age_value = 20\n",
    "print(s1.age)"
   ],
   "id": "fd4fc327e6dd8890",
   "outputs": [
    {
     "name": "stdout",
     "output_type": "stream",
     "text": [
      "{'name': 'Sartaj', 'age': 2}\n",
      "22\n",
      "--------------------\n",
      "age must be greater than 21\n",
      "22\n"
     ]
    }
   ],
   "execution_count": 34
  }
 ],
 "metadata": {
  "kernelspec": {
   "display_name": "Python 3",
   "language": "python",
   "name": "python3"
  },
  "language_info": {
   "codemirror_mode": {
    "name": "ipython",
    "version": 2
   },
   "file_extension": ".py",
   "mimetype": "text/x-python",
   "name": "python",
   "nbconvert_exporter": "python",
   "pygments_lexer": "ipython2",
   "version": "2.7.6"
  }
 },
 "nbformat": 4,
 "nbformat_minor": 5
}
