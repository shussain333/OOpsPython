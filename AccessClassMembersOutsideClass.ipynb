{
 "cells": [
  {
   "metadata": {},
   "cell_type": "markdown",
   "source": "## We will see these 4 inbuilt method to work on class attributes",
   "id": "b7a174394961cb17"
  },
  {
   "metadata": {},
   "cell_type": "markdown",
   "source": [
    "There are 4 inbuilt function-\n",
    "\n",
    "1. getattr(self, attribute_name)\n",
    "2. setattr(self, attribute_name, attribute_value)\n",
    "3. delattr(self, attribute_name)\n",
    "4. hasattr(self, attribute_name)\n",
    "\n",
    "**Note-** `__dict__` will only print the attribute_name and corresponding value of a class.\n",
    "\n",
    "_example_ - `{'name': 'John', 'age': 18}`"
   ],
   "id": "279a8ba60317f12"
  },
  {
   "metadata": {
    "collapsed": true,
    "ExecuteTime": {
     "end_time": "2025-10-02T18:11:41.848318Z",
     "start_time": "2025-10-02T18:11:41.844270Z"
    }
   },
   "cell_type": "code",
   "source": [
    "class UserClass:\n",
    "    def __init__(self, name, age):\n",
    "        self.name = name\n",
    "        self.age = age\n",
    "\n",
    "    def get_details(self):\n",
    "        return \"Name: {}, Age: {}\".format(self.name, self.age)\n",
    "\n",
    "u1 = UserClass(\"John\", 18)\n",
    "print(u1.age)\n",
    "\n",
    "print(getattr(u1, \"age\"))\n",
    "print(hasattr(u1, \"age\"))\n",
    "\n",
    "setattr(u1, \"university\", \"The University of India\")\n",
    "print(getattr(u1, \"university\"))\n",
    "\n",
    "print(\"Before deleting the attribute\")\n",
    "print(u1.__dict__)\n",
    "\n",
    "# There are 2 ways to delete attribute from an object\n",
    "delattr(u1, \"university\")\n",
    "del u1.age\n",
    "\n",
    "print(\"After deleting the attribute\")\n",
    "print(u1.__dict__)"
   ],
   "id": "a062e7ecb4e26950",
   "outputs": [
    {
     "name": "stdout",
     "output_type": "stream",
     "text": [
      "18\n",
      "18\n",
      "True\n",
      "The University of India\n",
      "Before deleting the attribute\n",
      "{'name': 'John', 'age': 18, 'university': 'The University of India'}\n",
      "After deleting the attribute\n",
      "{'name': 'John'}\n"
     ]
    }
   ],
   "execution_count": 9
  }
 ],
 "metadata": {
  "kernelspec": {
   "display_name": "Python 3",
   "language": "python",
   "name": "python3"
  },
  "language_info": {
   "codemirror_mode": {
    "name": "ipython",
    "version": 2
   },
   "file_extension": ".py",
   "mimetype": "text/x-python",
   "name": "python",
   "nbconvert_exporter": "python",
   "pygments_lexer": "ipython2",
   "version": "2.7.6"
  }
 },
 "nbformat": 4,
 "nbformat_minor": 5
}
