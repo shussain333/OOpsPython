{
 "cells": [
  {
   "metadata": {},
   "cell_type": "markdown",
   "source": [
    "## Python does not have true Encapsulation. But as per stander programming rule, we can still write it by using `Access Specifier`\n",
    "\n",
    "Encapsulation - Binding the data member and member function to work together.\n",
    "\n",
    "For Example - Below, `get_name(self)` is bound with variable salary."
   ],
   "id": "7bae97c101411004"
  },
  {
   "metadata": {
    "ExecuteTime": {
     "end_time": "2025-10-09T17:07:29.719320Z",
     "start_time": "2025-10-09T17:07:29.701009Z"
    }
   },
   "cell_type": "code",
   "source": [
    "class Employee:\n",
    "    def __init__(self, name, salary):\n",
    "        self.__name = name\n",
    "        self.__salary = salary\n",
    "\n",
    "    def get_name(self):\n",
    "        return self.__name\n",
    "\n",
    "    def __str__(self):\n",
    "        return self.__name\n",
    "\n",
    "    def __repr__(self):\n",
    "        return self.__name\n",
    "\n",
    "e1 = Employee(\"John\", 20000)\n",
    "print(e1)\n",
    "print(e1.__dict__)\n",
    "print(e1.salary)"
   ],
   "id": "f8205c58ba8b609a",
   "outputs": [
    {
     "name": "stdout",
     "output_type": "stream",
     "text": [
      "John\n",
      "{'_Employee__name': 'John', '_Employee__salary': 20000}\n"
     ]
    },
    {
     "ename": "AttributeError",
     "evalue": "'Employee' object has no attribute 'salary'",
     "output_type": "error",
     "traceback": [
      "\u001B[31m---------------------------------------------------------------------------\u001B[39m",
      "\u001B[31mAttributeError\u001B[39m                            Traceback (most recent call last)",
      "\u001B[36mCell\u001B[39m\u001B[36m \u001B[39m\u001B[32mIn[7]\u001B[39m\u001B[32m, line 18\u001B[39m\n\u001B[32m     16\u001B[39m \u001B[38;5;28mprint\u001B[39m(e1)\n\u001B[32m     17\u001B[39m \u001B[38;5;28mprint\u001B[39m(e1.\u001B[34m__dict__\u001B[39m)\n\u001B[32m---> \u001B[39m\u001B[32m18\u001B[39m \u001B[38;5;28mprint\u001B[39m(\u001B[43me1\u001B[49m\u001B[43m.\u001B[49m\u001B[43msalary\u001B[49m)\n",
      "\u001B[31mAttributeError\u001B[39m: 'Employee' object has no attribute 'salary'"
     ]
    }
   ],
   "execution_count": 7
  },
  {
   "metadata": {},
   "cell_type": "markdown",
   "source": [
    "### As per above log, we can say that `e1.salary` is not exposed outside the class because `Python` store that in a different format. Since `print(e1.__dict__)` has printed `{'_Employee__name': 'John', '_Employee__salary': 20000}`, means we can access salary by using `e1._Employee__name` but cannot directly access through `e1.salary`.\n",
    "\n",
    "Above problem is, `print(e1.__dict__)` statement is breaking the concept of `encapsulation`. Hence `encapsulation` is fully not possible in `Python`."
   ],
   "id": "adf542c9d402d46b"
  },
  {
   "metadata": {
    "ExecuteTime": {
     "end_time": "2025-10-09T17:12:01.706426Z",
     "start_time": "2025-10-09T17:12:01.704214Z"
    }
   },
   "cell_type": "code",
   "source": [
    "print(e1._Employee__salary)  # You are able to get 20000 value. Which is breaking the concept of encapsulation.\n",
    "\n",
    "e1._Employee__name = 2500\n",
    "print(e1._Employee__name)   # You are also able to modify the property value. Which is again breaking the concept of encapsulation."
   ],
   "id": "9bfbb1a2c070e67b",
   "outputs": [
    {
     "name": "stdout",
     "output_type": "stream",
     "text": [
      "20000\n",
      "2500\n"
     ]
    }
   ],
   "execution_count": 9
  }
 ],
 "metadata": {
  "kernelspec": {
   "display_name": "Python 3",
   "language": "python",
   "name": "python3"
  },
  "language_info": {
   "codemirror_mode": {
    "name": "ipython",
    "version": 2
   },
   "file_extension": ".py",
   "mimetype": "text/x-python",
   "name": "python",
   "nbconvert_exporter": "python",
   "pygments_lexer": "ipython2",
   "version": "2.7.6"
  }
 },
 "nbformat": 4,
 "nbformat_minor": 5
}
