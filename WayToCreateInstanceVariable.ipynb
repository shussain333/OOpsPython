{
 "cells": [
  {
   "metadata": {},
   "cell_type": "markdown",
   "source": [
    "## Ways to create Instance Variables\n",
    "\n",
    "1. Using constructor\n",
    "2. Using instance method\n",
    "3. Outside class"
   ],
   "id": "506e19c47fd1617d"
  },
  {
   "cell_type": "code",
   "id": "initial_id",
   "metadata": {
    "collapsed": true,
    "ExecuteTime": {
     "end_time": "2025-10-05T10:02:19.586272Z",
     "start_time": "2025-10-05T10:02:13.501010Z"
    }
   },
   "source": [
    "class Student:\n",
    "\n",
    "    ### 1. Using constructor\n",
    "    def __init__(self, name, age):\n",
    "        self.name = name\n",
    "        self.age = age\n",
    "\n",
    "    def display(self):  # self hold memory location and memory reference. It is always a first attribute. Its name can be anything\n",
    "        print(self.name, self.age)\n",
    "\n",
    "    ### 2. Using Method\n",
    "    def change_data(self):\n",
    "        # self.name = 'Hello'\n",
    "        # self.age += 33\n",
    "        self.name = input(\"Enter new name: \")\n",
    "        self.age = input(\"Enter new age: \")\n",
    "\n",
    "print(\"------Using Constructor------\")\n",
    "sd1 = Student(\"John\", 22)\n",
    "sd2 = Student(\"John1\", 24)\n",
    "sd1.display()\n",
    "sd2.display()\n",
    "\n",
    "print(\"------Using Method------\")\n",
    "sd2.change_data()\n",
    "sd2.display()\n",
    "print(sd2.__dict__)\n",
    "\n",
    "print(\"------Outside class------\")\n",
    "### 3. Outside class\n",
    "sd1.name = \"outside class\"\n",
    "sd1.display()\n",
    "sd2.display()"
   ],
   "outputs": [
    {
     "name": "stdout",
     "output_type": "stream",
     "text": [
      "------Using Constructor------\n",
      "John 22\n",
      "John1 24\n",
      "------Using Method------\n",
      "Aryan 56\n",
      "{'name': 'Aryan', 'age': '56'}\n",
      "------Outside class------\n",
      "outside class 22\n",
      "Aryan 56\n"
     ]
    }
   ],
   "execution_count": 6
  }
 ],
 "metadata": {
  "kernelspec": {
   "display_name": "Python 3",
   "language": "python",
   "name": "python3"
  },
  "language_info": {
   "codemirror_mode": {
    "name": "ipython",
    "version": 2
   },
   "file_extension": ".py",
   "mimetype": "text/x-python",
   "name": "python",
   "nbconvert_exporter": "python",
   "pygments_lexer": "ipython2",
   "version": "2.7.6"
  }
 },
 "nbformat": 4,
 "nbformat_minor": 5
}
