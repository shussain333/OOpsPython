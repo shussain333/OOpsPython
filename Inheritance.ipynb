{
 "cells": [
  {
   "metadata": {},
   "cell_type": "markdown",
   "source": [
    "## Inheritance\n",
    "Inheritance gives us feasibility of resuing the code.\n",
    "\n",
    "Deriving a new class from old class is called as Inheritance\n",
    "\n",
    "1. All the classes in python are derived from built in `object` class\n",
    "2. After inheritance `class Child(Parent):` child can access everything of it's parent but parent class cannot access anything of its child."
   ],
   "id": "e02ccfe170e35dea"
  },
  {
   "cell_type": "code",
   "id": "initial_id",
   "metadata": {
    "collapsed": true,
    "ExecuteTime": {
     "end_time": "2025-10-05T11:07:08.903599Z",
     "start_time": "2025-10-05T11:07:08.900755Z"
    }
   },
   "source": [
    "class Parent(object):\n",
    "    def __init__(self):\n",
    "        pass\n",
    "\n",
    "    def display(self):\n",
    "        print(\"I am from the parent class\")\n",
    "\n",
    "    def display2(self):\n",
    "        print(\"I am from the parent class bro!!\")\n",
    "\n",
    "class Child(Parent):        # Inheritance syntax\n",
    "    def __init__(self):\n",
    "        super(Child, self).__init__()\n",
    "        pass\n",
    "\n",
    "    def display(self):\n",
    "        print(\"I am from the child class\")\n",
    "\n",
    "p1 = Parent()\n",
    "c1 = Child()\n",
    "p1.display()\n",
    "c1.display()\n",
    "c1.display2()   # child class is able to access it's parent class.\n"
   ],
   "outputs": [
    {
     "name": "stdout",
     "output_type": "stream",
     "text": [
      "I am from the parent class\n",
      "I am from the child class\n",
      "I am from the parent class bro!!\n"
     ]
    }
   ],
   "execution_count": 9
  }
 ],
 "metadata": {
  "kernelspec": {
   "display_name": "Python 3",
   "language": "python",
   "name": "python3"
  },
  "language_info": {
   "codemirror_mode": {
    "name": "ipython",
    "version": 2
   },
   "file_extension": ".py",
   "mimetype": "text/x-python",
   "name": "python",
   "nbconvert_exporter": "python",
   "pygments_lexer": "ipython2",
   "version": "2.7.6"
  }
 },
 "nbformat": 4,
 "nbformat_minor": 5
}
