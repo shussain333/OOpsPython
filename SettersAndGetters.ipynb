{
 "cells": [
  {
   "metadata": {},
   "cell_type": "markdown",
   "source": [
    "## Instance Method/Function\n",
    "Using instance functions, you can create variable and modify the value of a existing variable.\n",
    "\n",
    "1. setter method - Set the value of instance variable. You can also create a new instance variable. It is also called as mutator method.\n",
    "2. getter method - Get values of instance variable. It is also called as accesser method."
   ],
   "id": "4a443459e4351156"
  },
  {
   "cell_type": "code",
   "id": "initial_id",
   "metadata": {
    "collapsed": true,
    "ExecuteTime": {
     "end_time": "2025-10-05T10:40:21.648192Z",
     "start_time": "2025-10-05T10:40:21.644196Z"
    }
   },
   "source": [
    "class Employee:\n",
    "    # Since this class does not have constructor created. So it will have default constructor by default.\n",
    "\n",
    "    def set_name(self, name):   ## setter method. It set the value and if variable is there then it creates the variable as well.\n",
    "        self.name = name\n",
    "\n",
    "    def get_name(self):\n",
    "        return self.name\n",
    "\n",
    "e1 = Employee()\n",
    "e2 = Employee()\n",
    "e1.set_name(\"Sartaj\")\n",
    "\n",
    "print(e1.__dict__)\n",
    "print(e2.__dict__)\n",
    "\n",
    "e1.set_name(\"Aryan\")\n",
    "print(e1.__dict__)\n",
    "print(e2.__dict__)\n",
    "\n",
    "e1.set_name(\"Name of anyone\")\n",
    "print(e1.__dict__)\n",
    "print(e2.__dict__)\n"
   ],
   "outputs": [
    {
     "name": "stdout",
     "output_type": "stream",
     "text": [
      "{'name': 'Sartaj'}\n",
      "{}\n",
      "{'name': 'Aryan'}\n",
      "{}\n",
      "{'name': 'Name of anyone'}\n",
      "{}\n"
     ]
    }
   ],
   "execution_count": 5
  }
 ],
 "metadata": {
  "kernelspec": {
   "display_name": "Python 3",
   "language": "python",
   "name": "python3"
  },
  "language_info": {
   "codemirror_mode": {
    "name": "ipython",
    "version": 2
   },
   "file_extension": ".py",
   "mimetype": "text/x-python",
   "name": "python",
   "nbconvert_exporter": "python",
   "pygments_lexer": "ipython2",
   "version": "2.7.6"
  }
 },
 "nbformat": 4,
 "nbformat_minor": 5
}
