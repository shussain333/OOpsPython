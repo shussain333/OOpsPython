{
 "cells": [
  {
   "metadata": {},
   "cell_type": "markdown",
   "source": "# Constructor overriding",
   "id": "cc9c138fdea44b72"
  },
  {
   "cell_type": "code",
   "id": "initial_id",
   "metadata": {
    "collapsed": true,
    "ExecuteTime": {
     "end_time": "2025-10-05T16:57:27.886152Z",
     "start_time": "2025-10-05T16:57:27.883778Z"
    }
   },
   "source": [
    "class Father:\n",
    "    def __init__(self):\n",
    "        print(\"Constructor Father called\")\n",
    "        self.vehicle = \"scooter\""
   ],
   "outputs": [],
   "execution_count": 29
  },
  {
   "metadata": {},
   "cell_type": "markdown",
   "source": "`Son` class does not have constructor. So `Father` class constructor is available for `Son` class.",
   "id": "c1f500904b3b0c4a"
  },
  {
   "metadata": {
    "ExecuteTime": {
     "end_time": "2025-10-05T16:57:27.891736Z",
     "start_time": "2025-10-05T16:57:27.890196Z"
    }
   },
   "cell_type": "code",
   "source": [
    "class Son(Father):\n",
    "    pass"
   ],
   "id": "20a43f2c7336562c",
   "outputs": [],
   "execution_count": 30
  },
  {
   "metadata": {
    "ExecuteTime": {
     "end_time": "2025-10-05T16:57:27.897847Z",
     "start_time": "2025-10-05T16:57:27.896108Z"
    }
   },
   "cell_type": "code",
   "source": [
    "s1 = Son()\n",
    "print(s1.__dict__)"
   ],
   "id": "6960c58bbe4cb352",
   "outputs": [
    {
     "name": "stdout",
     "output_type": "stream",
     "text": [
      "Constructor Father called\n",
      "{'vehicle': 'scooter'}\n"
     ]
    }
   ],
   "execution_count": 31
  },
  {
   "metadata": {},
   "cell_type": "markdown",
   "source": [
    "As you can see above while `s1 = Son()` is executing, it has called `Father` class constructor, which has printed `Constructor Father called`.\n",
    "\n",
    "### How above has happened?\n",
    "**When `s1 = Son()` was executed, python interpreter first searched constructor inside `Son` class, when it has not found, it went to the parent and executed that constructor.**"
   ],
   "id": "c62719a3b4c55215"
  },
  {
   "metadata": {},
   "cell_type": "markdown",
   "source": "### Now lets assume `Son` class is also having a constructor",
   "id": "72ce0c3d764d682"
  },
  {
   "metadata": {
    "ExecuteTime": {
     "end_time": "2025-10-05T16:57:27.907417Z",
     "start_time": "2025-10-05T16:57:27.905759Z"
    }
   },
   "cell_type": "code",
   "source": [
    "class Son(Father):\n",
    "\n",
    "    def __init__(self, name):\n",
    "        print(\"Constructor Son called\")\n",
    "        self.vehicle = name"
   ],
   "id": "c2d5852248f1d8b8",
   "outputs": [],
   "execution_count": 32
  },
  {
   "metadata": {
    "ExecuteTime": {
     "end_time": "2025-10-05T16:57:27.921957Z",
     "start_time": "2025-10-05T16:57:27.920248Z"
    }
   },
   "cell_type": "code",
   "source": [
    "s1 = Son(\"BMW\")\n",
    "print(s1.__dict__)"
   ],
   "id": "b70befe1bea5303c",
   "outputs": [
    {
     "name": "stdout",
     "output_type": "stream",
     "text": [
      "Constructor Son called\n",
      "{'vehicle': 'BMW'}\n"
     ]
    }
   ],
   "execution_count": 33
  },
  {
   "metadata": {},
   "cell_type": "markdown",
   "source": [
    "**When child is having constructor, then it's priority will be high. That is what happening here, hence `Son` constructor is getting called.**\n",
    "\n",
    "# Above `Son(Child)` is overriding `Father(Parent)` class constructor."
   ],
   "id": "9afb1267d0bf05cb"
  }
 ],
 "metadata": {
  "kernelspec": {
   "display_name": "Python 3",
   "language": "python",
   "name": "python3"
  },
  "language_info": {
   "codemirror_mode": {
    "name": "ipython",
    "version": 2
   },
   "file_extension": ".py",
   "mimetype": "text/x-python",
   "name": "python",
   "nbconvert_exporter": "python",
   "pygments_lexer": "ipython2",
   "version": "2.7.6"
  }
 },
 "nbformat": 4,
 "nbformat_minor": 5
}
