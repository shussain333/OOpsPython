{
 "cells": [
  {
   "metadata": {},
   "cell_type": "markdown",
   "source": [
    "## How `Super()` function works\n",
    "\n",
    "1. Using `super()` function, we can access parent class properties.\n",
    "2. This function returns a temporary object which contains reference to parent class.\n",
    "3. It make inheritance more manageable and extensible."
   ],
   "id": "fd4387ddaba34a85"
  },
  {
   "cell_type": "code",
   "id": "initial_id",
   "metadata": {
    "collapsed": true,
    "ExecuteTime": {
     "end_time": "2025-10-05T17:15:09.869166Z",
     "start_time": "2025-10-05T17:15:09.867460Z"
    }
   },
   "source": [
    "class Config(object):\n",
    "    def __init__(self):\n",
    "        self.ram = \"8gb\"\n",
    "        self.storage = \"512gb\"\n",
    "        print(\"Computer class constructor called\")"
   ],
   "outputs": [],
   "execution_count": 50
  },
  {
   "metadata": {
    "ExecuteTime": {
     "end_time": "2025-10-05T17:15:09.886691Z",
     "start_time": "2025-10-05T17:15:09.885089Z"
    }
   },
   "cell_type": "code",
   "source": [
    "class IMobile(Config):\n",
    "    def __init__(self):\n",
    "        self.model = \"iPhone\"\n",
    "        print(\"iMobile class constructor called\")"
   ],
   "id": "b53b5b6681983462",
   "outputs": [],
   "execution_count": 51
  },
  {
   "metadata": {
    "ExecuteTime": {
     "end_time": "2025-10-05T17:15:09.894636Z",
     "start_time": "2025-10-05T17:15:09.892940Z"
    }
   },
   "cell_type": "code",
   "source": [
    "class AndroidMobile(Config):\n",
    "    def __init__(self):\n",
    "        self.model = \"android\"\n",
    "        print(\"androidMobile class constructor called\")"
   ],
   "id": "2797587ff8d9b1d5",
   "outputs": [],
   "execution_count": 52
  },
  {
   "metadata": {
    "ExecuteTime": {
     "end_time": "2025-10-05T17:15:09.905639Z",
     "start_time": "2025-10-05T17:15:09.904093Z"
    }
   },
   "cell_type": "code",
   "source": [
    "apple = IMobile()\n",
    "print(apple.model)\n",
    "print(apple.__dict__)\n",
    "\n",
    "android = AndroidMobile()\n",
    "print(android.model)\n",
    "print(android.__dict__)"
   ],
   "id": "d58a25ecbe640814",
   "outputs": [
    {
     "name": "stdout",
     "output_type": "stream",
     "text": [
      "iMobile class constructor called\n",
      "iPhone\n",
      "{'model': 'iPhone'}\n",
      "androidMobile class constructor called\n",
      "android\n",
      "{'model': 'android'}\n"
     ]
    }
   ],
   "execution_count": 53
  },
  {
   "metadata": {},
   "cell_type": "markdown",
   "source": [
    "### Above it has printed just the model, because it does not have exposer to the parent attribute. But these child needs configuration of ram and storage as well. So how that can be done?\n",
    "\n",
    "**Using `super()` function!!!**"
   ],
   "id": "a2bc7e0d97ac3267"
  },
  {
   "metadata": {
    "ExecuteTime": {
     "end_time": "2025-10-05T17:15:09.920459Z",
     "start_time": "2025-10-05T17:15:09.918827Z"
    }
   },
   "cell_type": "code",
   "source": [
    "class IMobile(Config):\n",
    "    def __init__(self):\n",
    "        super().__init__() # Now child class will have access to parent class attributes. This can be placed anywhere in the constructor.\n",
    "        self.model = \"iPhone\"\n",
    "        print(\"iMobile class constructor called\")"
   ],
   "id": "d797753407f93980",
   "outputs": [],
   "execution_count": 54
  },
  {
   "metadata": {
    "ExecuteTime": {
     "end_time": "2025-10-05T17:15:09.931304Z",
     "start_time": "2025-10-05T17:15:09.929803Z"
    }
   },
   "cell_type": "code",
   "source": [
    "class AndroidMobile(Config):\n",
    "    def __init__(self):\n",
    "        super().__init__()  # Now child class will have access to parent class attributes. This can be placed anywhere in the constructor.\n",
    "        self.model = \"android\"\n",
    "        print(\"androidMobile class constructor called\")"
   ],
   "id": "94307528416329e3",
   "outputs": [],
   "execution_count": 55
  },
  {
   "metadata": {
    "ExecuteTime": {
     "end_time": "2025-10-05T17:15:09.939107Z",
     "start_time": "2025-10-05T17:15:09.937541Z"
    }
   },
   "cell_type": "code",
   "source": [
    "iMobile = IMobile()\n",
    "print(iMobile.model)\n",
    "print(iMobile.__dict__)"
   ],
   "id": "9d5881992ee9c2d1",
   "outputs": [
    {
     "name": "stdout",
     "output_type": "stream",
     "text": [
      "Computer class constructor called\n",
      "iMobile class constructor called\n",
      "iPhone\n",
      "{'ram': '8gb', 'storage': '512gb', 'model': 'iPhone'}\n"
     ]
    }
   ],
   "execution_count": 56
  },
  {
   "metadata": {
    "ExecuteTime": {
     "end_time": "2025-10-05T17:15:09.948014Z",
     "start_time": "2025-10-05T17:15:09.946373Z"
    }
   },
   "cell_type": "code",
   "source": [
    "android = AndroidMobile()\n",
    "print(android.model)\n",
    "print(android.__dict__)"
   ],
   "id": "73459aeef509b662",
   "outputs": [
    {
     "name": "stdout",
     "output_type": "stream",
     "text": [
      "Computer class constructor called\n",
      "androidMobile class constructor called\n",
      "android\n",
      "{'ram': '8gb', 'storage': '512gb', 'model': 'android'}\n"
     ]
    }
   ],
   "execution_count": 57
  },
  {
   "metadata": {},
   "cell_type": "markdown",
   "source": "## How to pass `ram` and `storage` value from the child?",
   "id": "762b24036cb75bfe"
  },
  {
   "metadata": {
    "ExecuteTime": {
     "end_time": "2025-10-05T17:15:09.956262Z",
     "start_time": "2025-10-05T17:15:09.954579Z"
    }
   },
   "cell_type": "code",
   "source": [
    "class Config(object):\n",
    "    def __init__(self, ram, storage):\n",
    "        self.ram = ram\n",
    "        self.storage = storage\n",
    "        print(\"Computer class constructor called\")"
   ],
   "id": "9c50c0b49c7247af",
   "outputs": [],
   "execution_count": 58
  },
  {
   "metadata": {
    "ExecuteTime": {
     "end_time": "2025-10-05T17:15:09.966944Z",
     "start_time": "2025-10-05T17:15:09.965339Z"
    }
   },
   "cell_type": "code",
   "source": [
    "class IMobile(Config):\n",
    "    def __init__(self, ram, storage):\n",
    "        super().__init__(ram, storage) # Now child class will have access to parent class attributes. This can be placed anywhere in the constructor.\n",
    "        self.model = \"iPhone\"\n",
    "        print(\"iMobile class constructor called\")"
   ],
   "id": "6a69603f5a302c4a",
   "outputs": [],
   "execution_count": 59
  },
  {
   "metadata": {
    "ExecuteTime": {
     "end_time": "2025-10-05T17:15:09.975038Z",
     "start_time": "2025-10-05T17:15:09.973558Z"
    }
   },
   "cell_type": "code",
   "source": [
    "class AndroidMobile(Config):\n",
    "    def __init__(self, ram, storage):\n",
    "        super().__init__(ram, storage)  # Now child class will have access to parent class attributes. This can be placed anywhere in the constructor.\n",
    "        self.model = \"android\"\n",
    "        print(\"androidMobile class constructor called\")"
   ],
   "id": "878dbe9559e9288a",
   "outputs": [],
   "execution_count": 60
  },
  {
   "metadata": {
    "ExecuteTime": {
     "end_time": "2025-10-05T17:15:09.983032Z",
     "start_time": "2025-10-05T17:15:09.981295Z"
    }
   },
   "cell_type": "code",
   "source": [
    "iMobile = IMobile(\"12bg\", \"512gb\")\n",
    "print(iMobile.model)\n",
    "print(iMobile.__dict__)\n",
    "\n",
    "print(\"===========================================\")\n",
    "android = AndroidMobile(\"8gb\", \"512gb\")\n",
    "print(android.model)\n",
    "print(android.__dict__)"
   ],
   "id": "e214538f950ea840",
   "outputs": [
    {
     "name": "stdout",
     "output_type": "stream",
     "text": [
      "Computer class constructor called\n",
      "iMobile class constructor called\n",
      "iPhone\n",
      "{'ram': '12bg', 'storage': '512gb', 'model': 'iPhone'}\n",
      "===========================================\n",
      "Computer class constructor called\n",
      "androidMobile class constructor called\n",
      "android\n",
      "{'ram': '8gb', 'storage': '512gb', 'model': 'android'}\n"
     ]
    }
   ],
   "execution_count": 61
  }
 ],
 "metadata": {
  "kernelspec": {
   "display_name": "Python 3",
   "language": "python",
   "name": "python3"
  },
  "language_info": {
   "codemirror_mode": {
    "name": "ipython",
    "version": 2
   },
   "file_extension": ".py",
   "mimetype": "text/x-python",
   "name": "python",
   "nbconvert_exporter": "python",
   "pygments_lexer": "ipython2",
   "version": "2.7.6"
  }
 },
 "nbformat": 4,
 "nbformat_minor": 5
}
